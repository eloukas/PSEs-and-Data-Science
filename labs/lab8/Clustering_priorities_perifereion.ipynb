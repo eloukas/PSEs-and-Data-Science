{
 "cells": [
  {
   "cell_type": "markdown",
   "metadata": {},
   "source": [
    "# Lab 8 - Cluster Analysis with R - priorities_perifereiwn"
   ]
  },
  {
   "cell_type": "code",
   "execution_count": 12,
   "metadata": {},
   "outputs": [
    {
     "data": {
      "text/html": [
       "<table>\n",
       "<thead><tr><th></th><th scope=col>Sindesi Ereunas &amp; Epixeirimatikotitas</th><th scope=col>Anaptixi aristeias ston tomea E&amp;K</th><th scope=col>Ipiresies ilektronikou emporiou</th><th scope=col>Ilektrinikes ipiresies se koinonikes efarmoges</th><th scope=col>Epixeirimatika Fitoria</th><th scope=col>Epixeirimatiki ekpaideusi &amp; xrimatodotisi</th><th scope=col>Anaptixi epixeirisewn se perifereiakes, ethnikes kai diethneis agores &amp; symmetoxi autwn se diadikasies kainotomias</th><th scope=col>Draseis veltiosis energeiakis apodosis</th><th scope=col>Exipni diaxeirisi energeias </th><th scope=col>Anaptixi kai xrisi APE</th><th scope=col>⋯</th><th scope=col>Ypodomes ygeias &amp; anapsixis</th><th scope=col>Anazwogonisi upovathmismenwn koinotitwn entos astikwn kai agrotikwn perioxwn</th><th scope=col>Paroxi sthrixis gia koinwnikes epixeiriseis</th><th scope=col>Pragmatopoihsi ependisewn sto plaisio strathgikwn topikis anaptyxis </th><th scope=col>Draseis gia enisxisi ths apasxolisis</th><th scope=col>Poma</th><th scope=col>Anagkes eupathwn omadwn</th><th scope=col>Prosvasi se koinwnikes ipiresies</th><th scope=col>Anagkes topikwn koinothtwn</th><th scope=col>Dia viou mathisi &amp; Eppagelmatiki katartisi &amp; ypodomes</th></tr></thead>\n",
       "<tbody>\n",
       "\t<tr><th scope=row>KRITI</th><td>1</td><td>0</td><td>1</td><td>1</td><td>1</td><td>1</td><td>0</td><td>1</td><td>1</td><td>1</td><td>⋯</td><td>1</td><td>0</td><td>0</td><td>0</td><td>1</td><td>1</td><td>1</td><td>1</td><td>1</td><td>1</td></tr>\n",
       "\t<tr><th scope=row>ANATOLIKI.MAKEDONIA.THRAKI</th><td>1</td><td>0</td><td>0</td><td>1</td><td>1</td><td>0</td><td>1</td><td>1</td><td>1</td><td>1</td><td>⋯</td><td>1</td><td>0</td><td>0</td><td>0</td><td>1</td><td>1</td><td>1</td><td>1</td><td>0</td><td>1</td></tr>\n",
       "\t<tr><th scope=row>ATTIKI</th><td>1</td><td>1</td><td>1</td><td>1</td><td>1</td><td>1</td><td>1</td><td>1</td><td>1</td><td>1</td><td>⋯</td><td>1</td><td>0</td><td>0</td><td>0</td><td>1</td><td>1</td><td>1</td><td>1</td><td>0</td><td>1</td></tr>\n",
       "\t<tr><th scope=row>VOREIO.AIGAIO</th><td>1</td><td>1</td><td>1</td><td>1</td><td>1</td><td>1</td><td>1</td><td>1</td><td>1</td><td>1</td><td>⋯</td><td>1</td><td>0</td><td>1</td><td>0</td><td>1</td><td>1</td><td>1</td><td>1</td><td>0</td><td>1</td></tr>\n",
       "\t<tr><th scope=row>DYTIKI.ELLADA</th><td>1</td><td>1</td><td>1</td><td>1</td><td>1</td><td>1</td><td>1</td><td>1</td><td>1</td><td>1</td><td>⋯</td><td>1</td><td>0</td><td>0</td><td>0</td><td>1</td><td>1</td><td>1</td><td>1</td><td>1</td><td>1</td></tr>\n",
       "\t<tr><th scope=row>DYTIKI.MAKEDONIA</th><td>1</td><td>1</td><td>1</td><td>1</td><td>1</td><td>1</td><td>1</td><td>1</td><td>1</td><td>1</td><td>⋯</td><td>1</td><td>0</td><td>0</td><td>0</td><td>1</td><td>0</td><td>1</td><td>1</td><td>0</td><td>1</td></tr>\n",
       "\t<tr><th scope=row>IPIROS</th><td>1</td><td>1</td><td>1</td><td>1</td><td>1</td><td>1</td><td>0</td><td>1</td><td>1</td><td>1</td><td>⋯</td><td>1</td><td>1</td><td>0</td><td>0</td><td>1</td><td>1</td><td>1</td><td>1</td><td>1</td><td>1</td></tr>\n",
       "\t<tr><th scope=row>THESSALIA</th><td>1</td><td>1</td><td>0</td><td>1</td><td>1</td><td>1</td><td>1</td><td>1</td><td>1</td><td>1</td><td>⋯</td><td>1</td><td>1</td><td>1</td><td>1</td><td>1</td><td>1</td><td>1</td><td>1</td><td>1</td><td>1</td></tr>\n",
       "\t<tr><th scope=row>IONIA.NISIA</th><td>1</td><td>1</td><td>1</td><td>1</td><td>1</td><td>1</td><td>0</td><td>1</td><td>1</td><td>1</td><td>⋯</td><td>1</td><td>0</td><td>0</td><td>0</td><td>1</td><td>1</td><td>1</td><td>1</td><td>1</td><td>1</td></tr>\n",
       "\t<tr><th scope=row>KENTRIKI.MAKEDONIA</th><td>1</td><td>1</td><td>1</td><td>1</td><td>1</td><td>1</td><td>1</td><td>1</td><td>1</td><td>1</td><td>⋯</td><td>1</td><td>0</td><td>1</td><td>0</td><td>1</td><td>1</td><td>1</td><td>1</td><td>1</td><td>1</td></tr>\n",
       "\t<tr><th scope=row>NOTIO.AIGAIO</th><td>1</td><td>1</td><td>1</td><td>1</td><td>1</td><td>0</td><td>1</td><td>1</td><td>1</td><td>1</td><td>⋯</td><td>1</td><td>0</td><td>0</td><td>0</td><td>1</td><td>1</td><td>1</td><td>1</td><td>0</td><td>1</td></tr>\n",
       "\t<tr><th scope=row>PELOPONNISOS</th><td>1</td><td>1</td><td>1</td><td>1</td><td>1</td><td>1</td><td>1</td><td>1</td><td>1</td><td>1</td><td>⋯</td><td>1</td><td>1</td><td>1</td><td>1</td><td>1</td><td>1</td><td>1</td><td>1</td><td>1</td><td>1</td></tr>\n",
       "\t<tr><th scope=row>STEREA.ELLADA</th><td>1</td><td>1</td><td>1</td><td>1</td><td>1</td><td>1</td><td>1</td><td>1</td><td>1</td><td>1</td><td>⋯</td><td>1</td><td>0</td><td>0</td><td>0</td><td>1</td><td>1</td><td>1</td><td>1</td><td>1</td><td>1</td></tr>\n",
       "</tbody>\n",
       "</table>\n"
      ],
      "text/latex": [
       "\\begin{tabular}{r|lllllllllllllllllllllllllllllllllllll}\n",
       "  & Sindesi Ereunas \\& Epixeirimatikotitas & Anaptixi aristeias ston tomea E\\&K & Ipiresies ilektronikou emporiou & Ilektrinikes ipiresies se koinonikes efarmoges & Epixeirimatika Fitoria & Epixeirimatiki ekpaideusi \\& xrimatodotisi & Anaptixi epixeirisewn se perifereiakes, ethnikes kai diethneis agores \\& symmetoxi autwn se diadikasies kainotomias & Draseis veltiosis energeiakis apodosis & Exipni diaxeirisi energeias  & Anaptixi kai xrisi APE & ⋯ & Ypodomes ygeias \\& anapsixis & Anazwogonisi upovathmismenwn koinotitwn entos astikwn kai agrotikwn perioxwn & Paroxi sthrixis gia koinwnikes epixeiriseis & Pragmatopoihsi ependisewn sto plaisio strathgikwn topikis anaptyxis  & Draseis gia enisxisi ths apasxolisis & Poma & Anagkes eupathwn omadwn & Prosvasi se koinwnikes ipiresies & Anagkes topikwn koinothtwn & Dia viou mathisi \\& Eppagelmatiki katartisi \\& ypodomes\\\\\n",
       "\\hline\n",
       "\tKRITI & 1 & 0 & 1 & 1 & 1 & 1 & 0 & 1 & 1 & 1 & ⋯ & 1 & 0 & 0 & 0 & 1 & 1 & 1 & 1 & 1 & 1\\\\\n",
       "\tANATOLIKI.MAKEDONIA.THRAKI & 1 & 0 & 0 & 1 & 1 & 0 & 1 & 1 & 1 & 1 & ⋯ & 1 & 0 & 0 & 0 & 1 & 1 & 1 & 1 & 0 & 1\\\\\n",
       "\tATTIKI & 1 & 1 & 1 & 1 & 1 & 1 & 1 & 1 & 1 & 1 & ⋯ & 1 & 0 & 0 & 0 & 1 & 1 & 1 & 1 & 0 & 1\\\\\n",
       "\tVOREIO.AIGAIO & 1 & 1 & 1 & 1 & 1 & 1 & 1 & 1 & 1 & 1 & ⋯ & 1 & 0 & 1 & 0 & 1 & 1 & 1 & 1 & 0 & 1\\\\\n",
       "\tDYTIKI.ELLADA & 1 & 1 & 1 & 1 & 1 & 1 & 1 & 1 & 1 & 1 & ⋯ & 1 & 0 & 0 & 0 & 1 & 1 & 1 & 1 & 1 & 1\\\\\n",
       "\tDYTIKI.MAKEDONIA & 1 & 1 & 1 & 1 & 1 & 1 & 1 & 1 & 1 & 1 & ⋯ & 1 & 0 & 0 & 0 & 1 & 0 & 1 & 1 & 0 & 1\\\\\n",
       "\tIPIROS & 1 & 1 & 1 & 1 & 1 & 1 & 0 & 1 & 1 & 1 & ⋯ & 1 & 1 & 0 & 0 & 1 & 1 & 1 & 1 & 1 & 1\\\\\n",
       "\tTHESSALIA & 1 & 1 & 0 & 1 & 1 & 1 & 1 & 1 & 1 & 1 & ⋯ & 1 & 1 & 1 & 1 & 1 & 1 & 1 & 1 & 1 & 1\\\\\n",
       "\tIONIA.NISIA & 1 & 1 & 1 & 1 & 1 & 1 & 0 & 1 & 1 & 1 & ⋯ & 1 & 0 & 0 & 0 & 1 & 1 & 1 & 1 & 1 & 1\\\\\n",
       "\tKENTRIKI.MAKEDONIA & 1 & 1 & 1 & 1 & 1 & 1 & 1 & 1 & 1 & 1 & ⋯ & 1 & 0 & 1 & 0 & 1 & 1 & 1 & 1 & 1 & 1\\\\\n",
       "\tNOTIO.AIGAIO & 1 & 1 & 1 & 1 & 1 & 0 & 1 & 1 & 1 & 1 & ⋯ & 1 & 0 & 0 & 0 & 1 & 1 & 1 & 1 & 0 & 1\\\\\n",
       "\tPELOPONNISOS & 1 & 1 & 1 & 1 & 1 & 1 & 1 & 1 & 1 & 1 & ⋯ & 1 & 1 & 1 & 1 & 1 & 1 & 1 & 1 & 1 & 1\\\\\n",
       "\tSTEREA.ELLADA & 1 & 1 & 1 & 1 & 1 & 1 & 1 & 1 & 1 & 1 & ⋯ & 1 & 0 & 0 & 0 & 1 & 1 & 1 & 1 & 1 & 1\\\\\n",
       "\\end{tabular}\n"
      ],
      "text/markdown": [
       "\n",
       "| <!--/--> | Sindesi Ereunas & Epixeirimatikotitas | Anaptixi aristeias ston tomea E&K | Ipiresies ilektronikou emporiou | Ilektrinikes ipiresies se koinonikes efarmoges | Epixeirimatika Fitoria | Epixeirimatiki ekpaideusi & xrimatodotisi | Anaptixi epixeirisewn se perifereiakes, ethnikes kai diethneis agores & symmetoxi autwn se diadikasies kainotomias | Draseis veltiosis energeiakis apodosis | Exipni diaxeirisi energeias  | Anaptixi kai xrisi APE | ⋯ | Ypodomes ygeias & anapsixis | Anazwogonisi upovathmismenwn koinotitwn entos astikwn kai agrotikwn perioxwn | Paroxi sthrixis gia koinwnikes epixeiriseis | Pragmatopoihsi ependisewn sto plaisio strathgikwn topikis anaptyxis  | Draseis gia enisxisi ths apasxolisis | Poma | Anagkes eupathwn omadwn | Prosvasi se koinwnikes ipiresies | Anagkes topikwn koinothtwn | Dia viou mathisi & Eppagelmatiki katartisi & ypodomes | \n",
       "|---|---|---|---|---|---|---|---|---|---|---|---|---|\n",
       "| KRITI | 1 | 0 | 1 | 1 | 1 | 1 | 0 | 1 | 1 | 1 | ⋯ | 1 | 0 | 0 | 0 | 1 | 1 | 1 | 1 | 1 | 1 | \n",
       "| ANATOLIKI.MAKEDONIA.THRAKI | 1 | 0 | 0 | 1 | 1 | 0 | 1 | 1 | 1 | 1 | ⋯ | 1 | 0 | 0 | 0 | 1 | 1 | 1 | 1 | 0 | 1 | \n",
       "| ATTIKI | 1 | 1 | 1 | 1 | 1 | 1 | 1 | 1 | 1 | 1 | ⋯ | 1 | 0 | 0 | 0 | 1 | 1 | 1 | 1 | 0 | 1 | \n",
       "| VOREIO.AIGAIO | 1 | 1 | 1 | 1 | 1 | 1 | 1 | 1 | 1 | 1 | ⋯ | 1 | 0 | 1 | 0 | 1 | 1 | 1 | 1 | 0 | 1 | \n",
       "| DYTIKI.ELLADA | 1 | 1 | 1 | 1 | 1 | 1 | 1 | 1 | 1 | 1 | ⋯ | 1 | 0 | 0 | 0 | 1 | 1 | 1 | 1 | 1 | 1 | \n",
       "| DYTIKI.MAKEDONIA | 1 | 1 | 1 | 1 | 1 | 1 | 1 | 1 | 1 | 1 | ⋯ | 1 | 0 | 0 | 0 | 1 | 0 | 1 | 1 | 0 | 1 | \n",
       "| IPIROS | 1 | 1 | 1 | 1 | 1 | 1 | 0 | 1 | 1 | 1 | ⋯ | 1 | 1 | 0 | 0 | 1 | 1 | 1 | 1 | 1 | 1 | \n",
       "| THESSALIA | 1 | 1 | 0 | 1 | 1 | 1 | 1 | 1 | 1 | 1 | ⋯ | 1 | 1 | 1 | 1 | 1 | 1 | 1 | 1 | 1 | 1 | \n",
       "| IONIA.NISIA | 1 | 1 | 1 | 1 | 1 | 1 | 0 | 1 | 1 | 1 | ⋯ | 1 | 0 | 0 | 0 | 1 | 1 | 1 | 1 | 1 | 1 | \n",
       "| KENTRIKI.MAKEDONIA | 1 | 1 | 1 | 1 | 1 | 1 | 1 | 1 | 1 | 1 | ⋯ | 1 | 0 | 1 | 0 | 1 | 1 | 1 | 1 | 1 | 1 | \n",
       "| NOTIO.AIGAIO | 1 | 1 | 1 | 1 | 1 | 0 | 1 | 1 | 1 | 1 | ⋯ | 1 | 0 | 0 | 0 | 1 | 1 | 1 | 1 | 0 | 1 | \n",
       "| PELOPONNISOS | 1 | 1 | 1 | 1 | 1 | 1 | 1 | 1 | 1 | 1 | ⋯ | 1 | 1 | 1 | 1 | 1 | 1 | 1 | 1 | 1 | 1 | \n",
       "| STEREA.ELLADA | 1 | 1 | 1 | 1 | 1 | 1 | 1 | 1 | 1 | 1 | ⋯ | 1 | 0 | 0 | 0 | 1 | 1 | 1 | 1 | 1 | 1 | \n",
       "\n",
       "\n"
      ],
      "text/plain": [
       "                           Sindesi Ereunas & Epixeirimatikotitas\n",
       "KRITI                      1                                    \n",
       "ANATOLIKI.MAKEDONIA.THRAKI 1                                    \n",
       "ATTIKI                     1                                    \n",
       "VOREIO.AIGAIO              1                                    \n",
       "DYTIKI.ELLADA              1                                    \n",
       "DYTIKI.MAKEDONIA           1                                    \n",
       "IPIROS                     1                                    \n",
       "THESSALIA                  1                                    \n",
       "IONIA.NISIA                1                                    \n",
       "KENTRIKI.MAKEDONIA         1                                    \n",
       "NOTIO.AIGAIO               1                                    \n",
       "PELOPONNISOS               1                                    \n",
       "STEREA.ELLADA              1                                    \n",
       "                           Anaptixi aristeias ston tomea E&K\n",
       "KRITI                      0                                \n",
       "ANATOLIKI.MAKEDONIA.THRAKI 0                                \n",
       "ATTIKI                     1                                \n",
       "VOREIO.AIGAIO              1                                \n",
       "DYTIKI.ELLADA              1                                \n",
       "DYTIKI.MAKEDONIA           1                                \n",
       "IPIROS                     1                                \n",
       "THESSALIA                  1                                \n",
       "IONIA.NISIA                1                                \n",
       "KENTRIKI.MAKEDONIA         1                                \n",
       "NOTIO.AIGAIO               1                                \n",
       "PELOPONNISOS               1                                \n",
       "STEREA.ELLADA              1                                \n",
       "                           Ipiresies ilektronikou emporiou\n",
       "KRITI                      1                              \n",
       "ANATOLIKI.MAKEDONIA.THRAKI 0                              \n",
       "ATTIKI                     1                              \n",
       "VOREIO.AIGAIO              1                              \n",
       "DYTIKI.ELLADA              1                              \n",
       "DYTIKI.MAKEDONIA           1                              \n",
       "IPIROS                     1                              \n",
       "THESSALIA                  0                              \n",
       "IONIA.NISIA                1                              \n",
       "KENTRIKI.MAKEDONIA         1                              \n",
       "NOTIO.AIGAIO               1                              \n",
       "PELOPONNISOS               1                              \n",
       "STEREA.ELLADA              1                              \n",
       "                           Ilektrinikes ipiresies se koinonikes efarmoges\n",
       "KRITI                      1                                             \n",
       "ANATOLIKI.MAKEDONIA.THRAKI 1                                             \n",
       "ATTIKI                     1                                             \n",
       "VOREIO.AIGAIO              1                                             \n",
       "DYTIKI.ELLADA              1                                             \n",
       "DYTIKI.MAKEDONIA           1                                             \n",
       "IPIROS                     1                                             \n",
       "THESSALIA                  1                                             \n",
       "IONIA.NISIA                1                                             \n",
       "KENTRIKI.MAKEDONIA         1                                             \n",
       "NOTIO.AIGAIO               1                                             \n",
       "PELOPONNISOS               1                                             \n",
       "STEREA.ELLADA              1                                             \n",
       "                           Epixeirimatika Fitoria\n",
       "KRITI                      1                     \n",
       "ANATOLIKI.MAKEDONIA.THRAKI 1                     \n",
       "ATTIKI                     1                     \n",
       "VOREIO.AIGAIO              1                     \n",
       "DYTIKI.ELLADA              1                     \n",
       "DYTIKI.MAKEDONIA           1                     \n",
       "IPIROS                     1                     \n",
       "THESSALIA                  1                     \n",
       "IONIA.NISIA                1                     \n",
       "KENTRIKI.MAKEDONIA         1                     \n",
       "NOTIO.AIGAIO               1                     \n",
       "PELOPONNISOS               1                     \n",
       "STEREA.ELLADA              1                     \n",
       "                           Epixeirimatiki ekpaideusi & xrimatodotisi\n",
       "KRITI                      1                                        \n",
       "ANATOLIKI.MAKEDONIA.THRAKI 0                                        \n",
       "ATTIKI                     1                                        \n",
       "VOREIO.AIGAIO              1                                        \n",
       "DYTIKI.ELLADA              1                                        \n",
       "DYTIKI.MAKEDONIA           1                                        \n",
       "IPIROS                     1                                        \n",
       "THESSALIA                  1                                        \n",
       "IONIA.NISIA                1                                        \n",
       "KENTRIKI.MAKEDONIA         1                                        \n",
       "NOTIO.AIGAIO               0                                        \n",
       "PELOPONNISOS               1                                        \n",
       "STEREA.ELLADA              1                                        \n",
       "                           Anaptixi epixeirisewn se perifereiakes, ethnikes kai diethneis agores & symmetoxi autwn se diadikasies kainotomias\n",
       "KRITI                      0                                                                                                                 \n",
       "ANATOLIKI.MAKEDONIA.THRAKI 1                                                                                                                 \n",
       "ATTIKI                     1                                                                                                                 \n",
       "VOREIO.AIGAIO              1                                                                                                                 \n",
       "DYTIKI.ELLADA              1                                                                                                                 \n",
       "DYTIKI.MAKEDONIA           1                                                                                                                 \n",
       "IPIROS                     0                                                                                                                 \n",
       "THESSALIA                  1                                                                                                                 \n",
       "IONIA.NISIA                0                                                                                                                 \n",
       "KENTRIKI.MAKEDONIA         1                                                                                                                 \n",
       "NOTIO.AIGAIO               1                                                                                                                 \n",
       "PELOPONNISOS               1                                                                                                                 \n",
       "STEREA.ELLADA              1                                                                                                                 \n",
       "                           Draseis veltiosis energeiakis apodosis\n",
       "KRITI                      1                                     \n",
       "ANATOLIKI.MAKEDONIA.THRAKI 1                                     \n",
       "ATTIKI                     1                                     \n",
       "VOREIO.AIGAIO              1                                     \n",
       "DYTIKI.ELLADA              1                                     \n",
       "DYTIKI.MAKEDONIA           1                                     \n",
       "IPIROS                     1                                     \n",
       "THESSALIA                  1                                     \n",
       "IONIA.NISIA                1                                     \n",
       "KENTRIKI.MAKEDONIA         1                                     \n",
       "NOTIO.AIGAIO               1                                     \n",
       "PELOPONNISOS               1                                     \n",
       "STEREA.ELLADA              1                                     \n",
       "                           Exipni diaxeirisi energeias  Anaptixi kai xrisi APE\n",
       "KRITI                      1                            1                     \n",
       "ANATOLIKI.MAKEDONIA.THRAKI 1                            1                     \n",
       "ATTIKI                     1                            1                     \n",
       "VOREIO.AIGAIO              1                            1                     \n",
       "DYTIKI.ELLADA              1                            1                     \n",
       "DYTIKI.MAKEDONIA           1                            1                     \n",
       "IPIROS                     1                            1                     \n",
       "THESSALIA                  1                            1                     \n",
       "IONIA.NISIA                1                            1                     \n",
       "KENTRIKI.MAKEDONIA         1                            1                     \n",
       "NOTIO.AIGAIO               1                            1                     \n",
       "PELOPONNISOS               1                            1                     \n",
       "STEREA.ELLADA              1                            1                     \n",
       "                           ⋯ Ypodomes ygeias & anapsixis\n",
       "KRITI                      ⋯ 1                          \n",
       "ANATOLIKI.MAKEDONIA.THRAKI ⋯ 1                          \n",
       "ATTIKI                     ⋯ 1                          \n",
       "VOREIO.AIGAIO              ⋯ 1                          \n",
       "DYTIKI.ELLADA              ⋯ 1                          \n",
       "DYTIKI.MAKEDONIA           ⋯ 1                          \n",
       "IPIROS                     ⋯ 1                          \n",
       "THESSALIA                  ⋯ 1                          \n",
       "IONIA.NISIA                ⋯ 1                          \n",
       "KENTRIKI.MAKEDONIA         ⋯ 1                          \n",
       "NOTIO.AIGAIO               ⋯ 1                          \n",
       "PELOPONNISOS               ⋯ 1                          \n",
       "STEREA.ELLADA              ⋯ 1                          \n",
       "                           Anazwogonisi upovathmismenwn koinotitwn entos astikwn kai agrotikwn perioxwn\n",
       "KRITI                      0                                                                           \n",
       "ANATOLIKI.MAKEDONIA.THRAKI 0                                                                           \n",
       "ATTIKI                     0                                                                           \n",
       "VOREIO.AIGAIO              0                                                                           \n",
       "DYTIKI.ELLADA              0                                                                           \n",
       "DYTIKI.MAKEDONIA           0                                                                           \n",
       "IPIROS                     1                                                                           \n",
       "THESSALIA                  1                                                                           \n",
       "IONIA.NISIA                0                                                                           \n",
       "KENTRIKI.MAKEDONIA         0                                                                           \n",
       "NOTIO.AIGAIO               0                                                                           \n",
       "PELOPONNISOS               1                                                                           \n",
       "STEREA.ELLADA              0                                                                           \n",
       "                           Paroxi sthrixis gia koinwnikes epixeiriseis\n",
       "KRITI                      0                                          \n",
       "ANATOLIKI.MAKEDONIA.THRAKI 0                                          \n",
       "ATTIKI                     0                                          \n",
       "VOREIO.AIGAIO              1                                          \n",
       "DYTIKI.ELLADA              0                                          \n",
       "DYTIKI.MAKEDONIA           0                                          \n",
       "IPIROS                     0                                          \n",
       "THESSALIA                  1                                          \n",
       "IONIA.NISIA                0                                          \n",
       "KENTRIKI.MAKEDONIA         1                                          \n",
       "NOTIO.AIGAIO               0                                          \n",
       "PELOPONNISOS               1                                          \n",
       "STEREA.ELLADA              0                                          \n",
       "                           Pragmatopoihsi ependisewn sto plaisio strathgikwn topikis anaptyxis \n",
       "KRITI                      0                                                                   \n",
       "ANATOLIKI.MAKEDONIA.THRAKI 0                                                                   \n",
       "ATTIKI                     0                                                                   \n",
       "VOREIO.AIGAIO              0                                                                   \n",
       "DYTIKI.ELLADA              0                                                                   \n",
       "DYTIKI.MAKEDONIA           0                                                                   \n",
       "IPIROS                     0                                                                   \n",
       "THESSALIA                  1                                                                   \n",
       "IONIA.NISIA                0                                                                   \n",
       "KENTRIKI.MAKEDONIA         0                                                                   \n",
       "NOTIO.AIGAIO               0                                                                   \n",
       "PELOPONNISOS               1                                                                   \n",
       "STEREA.ELLADA              0                                                                   \n",
       "                           Draseis gia enisxisi ths apasxolisis Poma\n",
       "KRITI                      1                                    1   \n",
       "ANATOLIKI.MAKEDONIA.THRAKI 1                                    1   \n",
       "ATTIKI                     1                                    1   \n",
       "VOREIO.AIGAIO              1                                    1   \n",
       "DYTIKI.ELLADA              1                                    1   \n",
       "DYTIKI.MAKEDONIA           1                                    0   \n",
       "IPIROS                     1                                    1   \n",
       "THESSALIA                  1                                    1   \n",
       "IONIA.NISIA                1                                    1   \n",
       "KENTRIKI.MAKEDONIA         1                                    1   \n",
       "NOTIO.AIGAIO               1                                    1   \n",
       "PELOPONNISOS               1                                    1   \n",
       "STEREA.ELLADA              1                                    1   \n",
       "                           Anagkes eupathwn omadwn\n",
       "KRITI                      1                      \n",
       "ANATOLIKI.MAKEDONIA.THRAKI 1                      \n",
       "ATTIKI                     1                      \n",
       "VOREIO.AIGAIO              1                      \n",
       "DYTIKI.ELLADA              1                      \n",
       "DYTIKI.MAKEDONIA           1                      \n",
       "IPIROS                     1                      \n",
       "THESSALIA                  1                      \n",
       "IONIA.NISIA                1                      \n",
       "KENTRIKI.MAKEDONIA         1                      \n",
       "NOTIO.AIGAIO               1                      \n",
       "PELOPONNISOS               1                      \n",
       "STEREA.ELLADA              1                      \n",
       "                           Prosvasi se koinwnikes ipiresies\n",
       "KRITI                      1                               \n",
       "ANATOLIKI.MAKEDONIA.THRAKI 1                               \n",
       "ATTIKI                     1                               \n",
       "VOREIO.AIGAIO              1                               \n",
       "DYTIKI.ELLADA              1                               \n",
       "DYTIKI.MAKEDONIA           1                               \n",
       "IPIROS                     1                               \n",
       "THESSALIA                  1                               \n",
       "IONIA.NISIA                1                               \n",
       "KENTRIKI.MAKEDONIA         1                               \n",
       "NOTIO.AIGAIO               1                               \n",
       "PELOPONNISOS               1                               \n",
       "STEREA.ELLADA              1                               \n",
       "                           Anagkes topikwn koinothtwn\n",
       "KRITI                      1                         \n",
       "ANATOLIKI.MAKEDONIA.THRAKI 0                         \n",
       "ATTIKI                     0                         \n",
       "VOREIO.AIGAIO              0                         \n",
       "DYTIKI.ELLADA              1                         \n",
       "DYTIKI.MAKEDONIA           0                         \n",
       "IPIROS                     1                         \n",
       "THESSALIA                  1                         \n",
       "IONIA.NISIA                1                         \n",
       "KENTRIKI.MAKEDONIA         1                         \n",
       "NOTIO.AIGAIO               0                         \n",
       "PELOPONNISOS               1                         \n",
       "STEREA.ELLADA              1                         \n",
       "                           Dia viou mathisi & Eppagelmatiki katartisi & ypodomes\n",
       "KRITI                      1                                                    \n",
       "ANATOLIKI.MAKEDONIA.THRAKI 1                                                    \n",
       "ATTIKI                     1                                                    \n",
       "VOREIO.AIGAIO              1                                                    \n",
       "DYTIKI.ELLADA              1                                                    \n",
       "DYTIKI.MAKEDONIA           1                                                    \n",
       "IPIROS                     1                                                    \n",
       "THESSALIA                  1                                                    \n",
       "IONIA.NISIA                1                                                    \n",
       "KENTRIKI.MAKEDONIA         1                                                    \n",
       "NOTIO.AIGAIO               1                                                    \n",
       "PELOPONNISOS               1                                                    \n",
       "STEREA.ELLADA              1                                                    "
      ]
     },
     "metadata": {},
     "output_type": "display_data"
    }
   ],
   "source": [
    "# read the .csv and transpose it! (colnames,rownames are not transposed!!)\n",
    "data <- t(read.csv(\"Lab8_priorities_perifereion.csv\", row.names = 1,header=TRUE))\n",
    "\n",
    "data"
   ]
  },
  {
   "cell_type": "code",
   "execution_count": 13,
   "metadata": {},
   "outputs": [],
   "source": [
    "# Calculate the dissimilarity between observations using the Euclidean distance\n",
    "dist.l<-dist(data,method=\"euclidean\")"
   ]
  },
  {
   "cell_type": "markdown",
   "metadata": {},
   "source": [
    "### Complete Linkage Method\n",
    "\n",
    "In complete-linkage method, we consider the distance between one cluster and another cluster to be equal to the **greatest** distance from any member of one cluster to any member of the other cluster."
   ]
  },
  {
   "cell_type": "code",
   "execution_count": 14,
   "metadata": {},
   "outputs": [
    {
     "data": {
      "text/html": [
       "<table>\n",
       "<tbody>\n",
       "\t<tr><td> -4</td><td>-10</td></tr>\n",
       "\t<tr><td> -3</td><td> -5</td></tr>\n",
       "\t<tr><td> -1</td><td> -9</td></tr>\n",
       "\t<tr><td> -8</td><td>  1</td></tr>\n",
       "\t<tr><td> -6</td><td>-11</td></tr>\n",
       "\t<tr><td>-12</td><td>  3</td></tr>\n",
       "\t<tr><td> -2</td><td>  5</td></tr>\n",
       "\t<tr><td>  2</td><td>  4</td></tr>\n",
       "\t<tr><td> -7</td><td>-13</td></tr>\n",
       "\t<tr><td>  6</td><td>  8</td></tr>\n",
       "\t<tr><td>  7</td><td>  9</td></tr>\n",
       "\t<tr><td> 10</td><td> 11</td></tr>\n",
       "</tbody>\n",
       "</table>\n"
      ],
      "text/latex": [
       "\\begin{tabular}{ll}\n",
       "\t  -4 & -10\\\\\n",
       "\t  -3 &  -5\\\\\n",
       "\t  -1 &  -9\\\\\n",
       "\t  -8 &   1\\\\\n",
       "\t  -6 & -11\\\\\n",
       "\t -12 &   3\\\\\n",
       "\t  -2 &   5\\\\\n",
       "\t   2 &   4\\\\\n",
       "\t  -7 & -13\\\\\n",
       "\t   6 &   8\\\\\n",
       "\t   7 &   9\\\\\n",
       "\t  10 &  11\\\\\n",
       "\\end{tabular}\n"
      ],
      "text/markdown": [
       "\n",
       "|  -4 | -10 | \n",
       "|  -3 |  -5 | \n",
       "|  -1 |  -9 | \n",
       "|  -8 |   1 | \n",
       "|  -6 | -11 | \n",
       "| -12 |   3 | \n",
       "|  -2 |   5 | \n",
       "|   2 |   4 | \n",
       "|  -7 | -13 | \n",
       "|   6 |   8 | \n",
       "|   7 |   9 | \n",
       "|  10 |  11 | \n",
       "\n",
       "\n"
      ],
      "text/plain": [
       "      [,1] [,2]\n",
       " [1,]  -4  -10 \n",
       " [2,]  -3   -5 \n",
       " [3,]  -1   -9 \n",
       " [4,]  -8    1 \n",
       " [5,]  -6  -11 \n",
       " [6,] -12    3 \n",
       " [7,]  -2    5 \n",
       " [8,]   2    4 \n",
       " [9,]  -7  -13 \n",
       "[10,]   6    8 \n",
       "[11,]   7    9 \n",
       "[12,]  10   11 "
      ]
     },
     "metadata": {},
     "output_type": "display_data"
    },
    {
     "name": "stdout",
     "output_type": "stream",
     "text": [
      "[1] \"Note that the minus in front of the unit number indicates that this is a single observation being merged;\\nwhereas numbers alone indicate the step at which the considered clusters were built.\"\n"
     ]
    },
    {
     "data": {
      "image/png": "[encoded data removed]",
      "text/plain": [
       "Plot with title “Cluster Dendrogram”"
      ]
     },
     "metadata": {},
     "output_type": "display_data"
    }
   ],
   "source": [
    "# Compute a hierarchical cluster analysis on the distance matrix using complete linkage method\n",
    "h_complete<-hclust(dist.l, method=\"complete\")\n",
    "\n",
    "# In order to see all the steps of the clustering type:\n",
    "h_complete$merge\n",
    "\n",
    "print(\"Note that the minus in front of the unit number indicates that this is a single observation being merged;\n",
    "whereas numbers alone indicate the step at which the considered clusters were built.\")\n",
    "\n",
    "# Create a plot of the clustering tree\n",
    "plot(h_complete,labels=rownames(data)) # 'plclust' is deprecated"
   ]
  },
  {
   "cell_type": "markdown",
   "metadata": {},
   "source": [
    "### Single Linkage Method\n",
    "\n",
    "In single-linkage clustering, we consider the distance between one cluster and another cluster to be equal to the **shortest** distance from any member of one cluster to any member of the other cluster. "
   ]
  },
  {
   "cell_type": "code",
   "execution_count": 15,
   "metadata": {},
   "outputs": [
    {
     "data": {
      "image/png": "[encoded data removed]",
      "text/plain": [
       "Plot with title “Cluster Dendrogram”"
      ]
     },
     "metadata": {},
     "output_type": "display_data"
    }
   ],
   "source": [
    "# Compute a hierarchical cluster analysis on the distance matrix using single linkage method\n",
    "h_single<-hclust(dist.l, method=\"single\")\n",
    "\n",
    "# In order to see all the steps of the clustering type:\n",
    "#h_single$merge\n",
    "\n",
    "#print(\"Note that the minus in front of the unit number indicates that this is a single observation being merged;\n",
    "#whereas numbers alone indicate the step at which the considered clusters were built.\")\n",
    "\n",
    "# Create a plot of the clustering tree\n",
    "plot(h_single)#labels=rownames(data)) # 'plclust' is deprecated"
   ]
  },
  {
   "cell_type": "markdown",
   "metadata": {},
   "source": [
    "### Average Linkage Method\n",
    "\n",
    "In average linkage method,we consider the distance between one cluster and another cluster to be equal to the **average** distance from any member of one cluster to any member of the other cluster"
   ]
  },
  {
   "cell_type": "code",
   "execution_count": 16,
   "metadata": {},
   "outputs": [
    {
     "data": {
      "text/html": [
       "<table>\n",
       "<tbody>\n",
       "\t<tr><td> -4</td><td>-10</td></tr>\n",
       "\t<tr><td> -3</td><td> -5</td></tr>\n",
       "\t<tr><td>  1</td><td>  2</td></tr>\n",
       "\t<tr><td> -1</td><td> -9</td></tr>\n",
       "\t<tr><td> -6</td><td>-11</td></tr>\n",
       "\t<tr><td> -8</td><td>  3</td></tr>\n",
       "\t<tr><td>-12</td><td>  4</td></tr>\n",
       "\t<tr><td> -2</td><td>  5</td></tr>\n",
       "\t<tr><td>-13</td><td>  6</td></tr>\n",
       "\t<tr><td>  7</td><td>  9</td></tr>\n",
       "\t<tr><td> -7</td><td>  8</td></tr>\n",
       "\t<tr><td> 10</td><td> 11</td></tr>\n",
       "</tbody>\n",
       "</table>\n"
      ],
      "text/latex": [
       "\\begin{tabular}{ll}\n",
       "\t  -4 & -10\\\\\n",
       "\t  -3 &  -5\\\\\n",
       "\t   1 &   2\\\\\n",
       "\t  -1 &  -9\\\\\n",
       "\t  -6 & -11\\\\\n",
       "\t  -8 &   3\\\\\n",
       "\t -12 &   4\\\\\n",
       "\t  -2 &   5\\\\\n",
       "\t -13 &   6\\\\\n",
       "\t   7 &   9\\\\\n",
       "\t  -7 &   8\\\\\n",
       "\t  10 &  11\\\\\n",
       "\\end{tabular}\n"
      ],
      "text/markdown": [
       "\n",
       "|  -4 | -10 | \n",
       "|  -3 |  -5 | \n",
       "|   1 |   2 | \n",
       "|  -1 |  -9 | \n",
       "|  -6 | -11 | \n",
       "|  -8 |   3 | \n",
       "| -12 |   4 | \n",
       "|  -2 |   5 | \n",
       "| -13 |   6 | \n",
       "|   7 |   9 | \n",
       "|  -7 |   8 | \n",
       "|  10 |  11 | \n",
       "\n",
       "\n"
      ],
      "text/plain": [
       "      [,1] [,2]\n",
       " [1,]  -4  -10 \n",
       " [2,]  -3   -5 \n",
       " [3,]   1    2 \n",
       " [4,]  -1   -9 \n",
       " [5,]  -6  -11 \n",
       " [6,]  -8    3 \n",
       " [7,] -12    4 \n",
       " [8,]  -2    5 \n",
       " [9,] -13    6 \n",
       "[10,]   7    9 \n",
       "[11,]  -7    8 \n",
       "[12,]  10   11 "
      ]
     },
     "metadata": {},
     "output_type": "display_data"
    },
    {
     "name": "stdout",
     "output_type": "stream",
     "text": [
      "[1] \"Note that the minus in front of the unit number indicates that this is a single observation being merged;\\nwhereas numbers alone indicate the step at which the considered clusters were built.\"\n"
     ]
    },
    {
     "data": {
      "image/png": "[encoded data removed]",
      "text/plain": [
       "Plot with title “Cluster Dendrogram”"
      ]
     },
     "metadata": {},
     "output_type": "display_data"
    }
   ],
   "source": [
    "# Compute a hierarchical cluster analysis on the distance matrix using average linkage method\n",
    "h_average<-hclust(dist.l, method=\"average\")\n",
    "\n",
    "# In order to see all the steps of the clustering type:\n",
    "h_average$merge\n",
    "\n",
    "print(\"Note that the minus in front of the unit number indicates that this is a single observation being merged;\n",
    "whereas numbers alone indicate the step at which the considered clusters were built.\")\n",
    "\n",
    "# Create a plot of the clustering tree\n",
    "plot(h_average,labels=rownames(data)) # 'plclust' is deprecated"
   ]
  },
  {
   "cell_type": "markdown",
   "metadata": {},
   "source": [
    "We can now observe how prettier, more readable and symmetric the complete linkage is than the other two method in our dataset. We get a better view of how to cluster this dataset."
   ]
  },
  {
   "cell_type": "markdown",
   "metadata": {},
   "source": [
    "So, what is an appropriate number of clusters according to the complete linkage plot ?\n",
    "\n",
    "By looking at cluster dendrogram, we can tell that the appropriate number of cluster is 2. Same for single and average linkage.\n",
    "\n",
    "Another way to choose the appropriate number of clusters is to cut the tree by the largest difference of heights between two nodes. The height values are contained in the output of hclust function:"
   ]
  },
  {
   "cell_type": "code",
   "execution_count": 17,
   "metadata": {},
   "outputs": [
    {
     "name": "stdout",
     "output_type": "stream",
     "text": [
      "[1] \"Height values: \"\n"
     ]
    },
    {
     "data": {
      "text/html": [
       "<ol class=list-inline>\n",
       "\t<li>1.73205080756888</li>\n",
       "\t<li>2</li>\n",
       "\t<li>2.23606797749979</li>\n",
       "\t<li>2.23606797749979</li>\n",
       "\t<li>2.23606797749979</li>\n",
       "\t<li>2.64575131106459</li>\n",
       "\t<li>2.64575131106459</li>\n",
       "\t<li>2.64575131106459</li>\n",
       "\t<li>2.64575131106459</li>\n",
       "\t<li>3.16227766016838</li>\n",
       "\t<li>3.16227766016838</li>\n",
       "\t<li>3.46410161513775</li>\n",
       "</ol>\n"
      ],
      "text/latex": [
       "\\begin{enumerate*}\n",
       "\\item 1.73205080756888\n",
       "\\item 2\n",
       "\\item 2.23606797749979\n",
       "\\item 2.23606797749979\n",
       "\\item 2.23606797749979\n",
       "\\item 2.64575131106459\n",
       "\\item 2.64575131106459\n",
       "\\item 2.64575131106459\n",
       "\\item 2.64575131106459\n",
       "\\item 3.16227766016838\n",
       "\\item 3.16227766016838\n",
       "\\item 3.46410161513775\n",
       "\\end{enumerate*}\n"
      ],
      "text/markdown": [
       "1. 1.73205080756888\n",
       "2. 2\n",
       "3. 2.23606797749979\n",
       "4. 2.23606797749979\n",
       "5. 2.23606797749979\n",
       "6. 2.64575131106459\n",
       "7. 2.64575131106459\n",
       "8. 2.64575131106459\n",
       "9. 2.64575131106459\n",
       "10. 3.16227766016838\n",
       "11. 3.16227766016838\n",
       "12. 3.46410161513775\n",
       "\n",
       "\n"
      ],
      "text/plain": [
       " [1] 1.732051 2.000000 2.236068 2.236068 2.236068 2.645751 2.645751 2.645751\n",
       " [9] 2.645751 3.162278 3.162278 3.464102"
      ]
     },
     "metadata": {},
     "output_type": "display_data"
    },
    {
     "name": "stdout",
     "output_type": "stream",
     "text": [
      "[1] \"Differences in height: \"\n"
     ]
    },
    {
     "data": {
      "text/html": [
       "<ol class=list-inline>\n",
       "\t<li>1.732</li>\n",
       "\t<li>0.268</li>\n",
       "\t<li>0.236</li>\n",
       "\t<li>0</li>\n",
       "\t<li>0</li>\n",
       "\t<li>0.41</li>\n",
       "\t<li>0</li>\n",
       "\t<li>0</li>\n",
       "\t<li>0</li>\n",
       "\t<li>0.517</li>\n",
       "\t<li>0</li>\n",
       "\t<li>0.302</li>\n",
       "</ol>\n"
      ],
      "text/latex": [
       "\\begin{enumerate*}\n",
       "\\item 1.732\n",
       "\\item 0.268\n",
       "\\item 0.236\n",
       "\\item 0\n",
       "\\item 0\n",
       "\\item 0.41\n",
       "\\item 0\n",
       "\\item 0\n",
       "\\item 0\n",
       "\\item 0.517\n",
       "\\item 0\n",
       "\\item 0.302\n",
       "\\end{enumerate*}\n"
      ],
      "text/markdown": [
       "1. 1.732\n",
       "2. 0.268\n",
       "3. 0.236\n",
       "4. 0\n",
       "5. 0\n",
       "6. 0.41\n",
       "7. 0\n",
       "8. 0\n",
       "9. 0\n",
       "10. 0.517\n",
       "11. 0\n",
       "12. 0.302\n",
       "\n",
       "\n"
      ],
      "text/plain": [
       " [1] 1.732 0.268 0.236 0.000 0.000 0.410 0.000 0.000 0.000 0.517 0.000 0.302"
      ]
     },
     "metadata": {},
     "output_type": "display_data"
    },
    {
     "name": "stdout",
     "output_type": "stream",
     "text": [
      "[1] \"Max difference: \"\n"
     ]
    },
    {
     "data": {
      "text/html": [
       "1.732"
      ],
      "text/latex": [
       "1.732"
      ],
      "text/markdown": [
       "1.732"
      ],
      "text/plain": [
       "[1] 1.732"
      ]
     },
     "metadata": {},
     "output_type": "display_data"
    },
    {
     "name": "stdout",
     "output_type": "stream",
     "text": [
      "[1] \"Index of max difference: \"\n"
     ]
    },
    {
     "data": {
      "text/html": [
       "1"
      ],
      "text/latex": [
       "1"
      ],
      "text/markdown": [
       "1"
      ],
      "text/plain": [
       "[1] 1"
      ]
     },
     "metadata": {},
     "output_type": "display_data"
    }
   ],
   "source": [
    "print(\"Height values: \")\n",
    "h_complete.cl <- h_complete$height # height values\n",
    "h_complete.cl\n",
    "\n",
    "h_complete.cl2 <- c(0, h_complete.cl[-length(h_complete.cl)]) # vector that has to be substracted from h_complete.cl\n",
    "\n",
    "print('Differences in height: ')\n",
    "diff_complete <- round(h_complete.cl-h_complete.cl2,3) # differences in height, rounded at the 3rd digit\n",
    "diff_complete\n",
    "\n",
    "print('Max difference: ')\n",
    "max(diff_complete) # the largest increase\n",
    "\n",
    "print('Index of max difference: ')\n",
    "which.max(diff_complete) # the step if the larget increase"
   ]
  },
  {
   "cell_type": "markdown",
   "metadata": {},
   "source": [
    "### Kmeans!\n",
    "\n",
    "Suppose to cut the complete linkage dendrogram at height **1**: it would yield **2** clusters. Try to construct four clusters using the k-means algorithm as follows:"
   ]
  },
  {
   "cell_type": "code",
   "execution_count": 18,
   "metadata": {},
   "outputs": [
    {
     "data": {
      "text/html": [
       "<dl class=dl-horizontal>\n",
       "\t<dt>KRITI</dt>\n",
       "\t\t<dd>2</dd>\n",
       "\t<dt>ANATOLIKI.MAKEDONIA.THRAKI</dt>\n",
       "\t\t<dd>2</dd>\n",
       "\t<dt>ATTIKI</dt>\n",
       "\t\t<dd>1</dd>\n",
       "\t<dt>VOREIO.AIGAIO</dt>\n",
       "\t\t<dd>1</dd>\n",
       "\t<dt>DYTIKI.ELLADA</dt>\n",
       "\t\t<dd>1</dd>\n",
       "\t<dt>DYTIKI.MAKEDONIA</dt>\n",
       "\t\t<dd>2</dd>\n",
       "\t<dt>IPIROS</dt>\n",
       "\t\t<dd>2</dd>\n",
       "\t<dt>THESSALIA</dt>\n",
       "\t\t<dd>1</dd>\n",
       "\t<dt>IONIA.NISIA</dt>\n",
       "\t\t<dd>1</dd>\n",
       "\t<dt>KENTRIKI.MAKEDONIA</dt>\n",
       "\t\t<dd>1</dd>\n",
       "\t<dt>NOTIO.AIGAIO</dt>\n",
       "\t\t<dd>2</dd>\n",
       "\t<dt>PELOPONNISOS</dt>\n",
       "\t\t<dd>1</dd>\n",
       "\t<dt>STEREA.ELLADA</dt>\n",
       "\t\t<dd>2</dd>\n",
       "</dl>\n"
      ],
      "text/latex": [
       "\\begin{description*}\n",
       "\\item[KRITI] 2\n",
       "\\item[ANATOLIKI.MAKEDONIA.THRAKI] 2\n",
       "\\item[ATTIKI] 1\n",
       "\\item[VOREIO.AIGAIO] 1\n",
       "\\item[DYTIKI.ELLADA] 1\n",
       "\\item[DYTIKI.MAKEDONIA] 2\n",
       "\\item[IPIROS] 2\n",
       "\\item[THESSALIA] 1\n",
       "\\item[IONIA.NISIA] 1\n",
       "\\item[KENTRIKI.MAKEDONIA] 1\n",
       "\\item[NOTIO.AIGAIO] 2\n",
       "\\item[PELOPONNISOS] 1\n",
       "\\item[STEREA.ELLADA] 2\n",
       "\\end{description*}\n"
      ],
      "text/markdown": [
       "KRITI\n",
       ":   2ANATOLIKI.MAKEDONIA.THRAKI\n",
       ":   2ATTIKI\n",
       ":   1VOREIO.AIGAIO\n",
       ":   1DYTIKI.ELLADA\n",
       ":   1DYTIKI.MAKEDONIA\n",
       ":   2IPIROS\n",
       ":   2THESSALIA\n",
       ":   1IONIA.NISIA\n",
       ":   1KENTRIKI.MAKEDONIA\n",
       ":   1NOTIO.AIGAIO\n",
       ":   2PELOPONNISOS\n",
       ":   1STEREA.ELLADA\n",
       ":   2\n",
       "\n"
      ],
      "text/plain": [
       "                     KRITI ANATOLIKI.MAKEDONIA.THRAKI \n",
       "                         2                          2 \n",
       "                    ATTIKI              VOREIO.AIGAIO \n",
       "                         1                          1 \n",
       "             DYTIKI.ELLADA           DYTIKI.MAKEDONIA \n",
       "                         1                          2 \n",
       "                    IPIROS                  THESSALIA \n",
       "                         2                          1 \n",
       "               IONIA.NISIA         KENTRIKI.MAKEDONIA \n",
       "                         1                          1 \n",
       "              NOTIO.AIGAIO               PELOPONNISOS \n",
       "                         2                          1 \n",
       "             STEREA.ELLADA \n",
       "                         2 "
      ]
     },
     "metadata": {},
     "output_type": "display_data"
    }
   ],
   "source": [
    "km <- kmeans(data, 2)\n",
    "km$cluster"
   ]
  },
  {
   "cell_type": "code",
   "execution_count": 19,
   "metadata": {},
   "outputs": [
    {
     "data": {
      "text/html": [
       "0.106998580677855"
      ],
      "text/latex": [
       "0.106998580677855"
      ],
      "text/markdown": [
       "0.106998580677855"
      ],
      "text/plain": [
       "[1] 0.1069986"
      ]
     },
     "metadata": {},
     "output_type": "display_data"
    }
   ],
   "source": [
    "library(fpc)\n",
    "#?cluster.stats uncomment this if you want more details about cluster.stats.\n",
    "dist.data<-dist(data,\"euclidean\")\n",
    "\n",
    "out.cl2<-cluster.stats(dist.data,km$cluster)\n",
    "out.cl2$avg.silwidth"
   ]
  },
  {
   "cell_type": "markdown",
   "metadata": {},
   "source": [
    "According to the values of the two indexes, the k-means with two clusters produces more homogenous groups; the second best choice would be fixing the number k of clusters equal to 3.\n",
    "\n",
    "A meaningful representation of the clustering outcome is the so called 'silhouette plot'. On the x-axis it shows the silhouette width for each observation in the corresponding cluster; units in the same cluster are plotted in decreasing order according to their silhouette value. Different clusters are separately plotted. Furthermore, it reports the number of observations in each cluster and the average silhouette width of the classification.\n",
    "\n",
    "In order to produce a silhouette plot we need to load the cluster library and to use function silhouette:\n"
   ]
  },
  {
   "cell_type": "code",
   "execution_count": 20,
   "metadata": {},
   "outputs": [
    {
     "data": {
      "image/png": "[encoded data removed]",
      "text/plain": [
       "Plot with title “Silhouette Plot for 'Perifereies' dataset, k=2”"
      ]
     },
     "metadata": {},
     "output_type": "display_data"
    }
   ],
   "source": [
    "library(cluster)\n",
    "sil<-silhouette(km$cluster,dist.data)\n",
    "plot(sil,cex.names=0.6,nmax=98,main=\"Silhouette Plot for 'Perifereies' dataset, k=2\")"
   ]
  }
 ],
 "metadata": {
  "kernelspec": {
   "display_name": "R",
   "language": "R",
   "name": "ir"
  },
  "language_info": {
   "codemirror_mode": "r",
   "file_extension": ".r",
   "mimetype": "text/x-r-source",
   "name": "R",
   "pygments_lexer": "r",
   "version": "3.3.2"
  }
 },
 "nbformat": 4,
 "nbformat_minor": 2
}
