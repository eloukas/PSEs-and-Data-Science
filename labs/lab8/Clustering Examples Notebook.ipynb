{
 "cells": [
  {
   "cell_type": "markdown",
   "metadata": {},
   "source": [
    "# Lab8 - Cluster Analysis with R\n",
    "Clustering a set of    objects into    groups is usually moved by the aim of identifying internally homogenous groups according to a specific set of variables. In order to accomplish this objective, the starting point is computing a matrix, called dissimilarity matrix, which contains information about the dissimilarity of the observed units. According to the nature of the observed variables (quantitative, qualitative, binary or mixed type variables), we can define and use different measures of dissimilarity. \n",
    "\n",
    "1) Repeat the following examples\n",
    "\n",
    "2) Apply complete clustering analysis to Lab8_priorities_perifereion dataset"
   ]
  },
  {
   "cell_type": "markdown",
   "metadata": {},
   "source": [
    "## Example 1\n",
    "Data Longley contained in the R-package AER consists of the number of people employed from 1947-1962."
   ]
  },
  {
   "cell_type": "code",
   "execution_count": 1,
   "metadata": {},
   "outputs": [
    {
     "name": "stderr",
     "output_type": "stream",
     "text": [
      "Updating HTML index of packages in '.Library'\n",
      "Making 'packages.html' ... done\n",
      "Loading required package: car\n",
      "Loading required package: lmtest\n",
      "Loading required package: zoo\n",
      "\n",
      "Attaching package: ‘zoo’\n",
      "\n",
      "The following objects are masked from ‘package:base’:\n",
      "\n",
      "    as.Date, as.Date.numeric\n",
      "\n",
      "Loading required package: sandwich\n",
      "Loading required package: survival\n"
     ]
    }
   ],
   "source": [
    "# Libraries & Preparation\n",
    "install.packages('AER')\n",
    "library(AER)"
   ]
  },
  {
   "cell_type": "code",
   "execution_count": 2,
   "metadata": {},
   "outputs": [
    {
     "data": {
      "text/html": [
       "<ol class=list-inline>\n",
       "\t<li>60.323</li>\n",
       "\t<li>61.122</li>\n",
       "\t<li>60.171</li>\n",
       "\t<li>61.187</li>\n",
       "\t<li>63.221</li>\n",
       "\t<li>63.639</li>\n",
       "\t<li>64.989</li>\n",
       "\t<li>63.761</li>\n",
       "\t<li>66.019</li>\n",
       "\t<li>67.857</li>\n",
       "\t<li>68.169</li>\n",
       "\t<li>66.513</li>\n",
       "\t<li>68.655</li>\n",
       "\t<li>69.564</li>\n",
       "\t<li>69.331</li>\n",
       "\t<li>70.551</li>\n",
       "</ol>\n"
      ],
      "text/latex": [
       "\\begin{enumerate*}\n",
       "\\item 60.323\n",
       "\\item 61.122\n",
       "\\item 60.171\n",
       "\\item 61.187\n",
       "\\item 63.221\n",
       "\\item 63.639\n",
       "\\item 64.989\n",
       "\\item 63.761\n",
       "\\item 66.019\n",
       "\\item 67.857\n",
       "\\item 68.169\n",
       "\\item 66.513\n",
       "\\item 68.655\n",
       "\\item 69.564\n",
       "\\item 69.331\n",
       "\\item 70.551\n",
       "\\end{enumerate*}\n"
      ],
      "text/markdown": [
       "1. 60.323\n",
       "2. 61.122\n",
       "3. 60.171\n",
       "4. 61.187\n",
       "5. 63.221\n",
       "6. 63.639\n",
       "7. 64.989\n",
       "8. 63.761\n",
       "9. 66.019\n",
       "10. 67.857\n",
       "11. 68.169\n",
       "12. 66.513\n",
       "13. 68.655\n",
       "14. 69.564\n",
       "15. 69.331\n",
       "16. 70.551\n",
       "\n",
       "\n"
      ],
      "text/plain": [
       " [1] 60.323 61.122 60.171 61.187 63.221 63.639 64.989 63.761 66.019 67.857\n",
       "[11] 68.169 66.513 68.655 69.564 69.331 70.551"
      ]
     },
     "metadata": {},
     "output_type": "display_data"
    },
    {
     "name": "stdout",
     "output_type": "stream",
     "text": [
      "\n",
      "Call:\n",
      "hclust(d = dist.l, method = \"complete\")\n",
      "\n",
      "Cluster method   : complete \n",
      "Distance         : euclidean \n",
      "Number of objects: 16 \n",
      "\n"
     ]
    },
    {
     "data": {
      "text/html": [
       "<table>\n",
       "<tbody>\n",
       "\t<tr><td> -2</td><td> -4</td></tr>\n",
       "\t<tr><td> -6</td><td> -8</td></tr>\n",
       "\t<tr><td> -1</td><td> -3</td></tr>\n",
       "\t<tr><td>-14</td><td>-15</td></tr>\n",
       "\t<tr><td>-10</td><td>-11</td></tr>\n",
       "\t<tr><td> -9</td><td>-12</td></tr>\n",
       "\t<tr><td> -5</td><td>  2</td></tr>\n",
       "\t<tr><td>-13</td><td>  5</td></tr>\n",
       "\t<tr><td>  1</td><td>  3</td></tr>\n",
       "\t<tr><td>-16</td><td>  4</td></tr>\n",
       "\t<tr><td> -7</td><td>  6</td></tr>\n",
       "\t<tr><td>  8</td><td> 10</td></tr>\n",
       "\t<tr><td>  7</td><td> 11</td></tr>\n",
       "\t<tr><td>  9</td><td> 13</td></tr>\n",
       "\t<tr><td> 12</td><td> 14</td></tr>\n",
       "</tbody>\n",
       "</table>\n"
      ],
      "text/latex": [
       "\\begin{tabular}{ll}\n",
       "\t  -2 &  -4\\\\\n",
       "\t  -6 &  -8\\\\\n",
       "\t  -1 &  -3\\\\\n",
       "\t -14 & -15\\\\\n",
       "\t -10 & -11\\\\\n",
       "\t  -9 & -12\\\\\n",
       "\t  -5 &   2\\\\\n",
       "\t -13 &   5\\\\\n",
       "\t   1 &   3\\\\\n",
       "\t -16 &   4\\\\\n",
       "\t  -7 &   6\\\\\n",
       "\t   8 &  10\\\\\n",
       "\t   7 &  11\\\\\n",
       "\t   9 &  13\\\\\n",
       "\t  12 &  14\\\\\n",
       "\\end{tabular}\n"
      ],
      "text/markdown": [
       "\n",
       "|  -2 |  -4 | \n",
       "|  -6 |  -8 | \n",
       "|  -1 |  -3 | \n",
       "| -14 | -15 | \n",
       "| -10 | -11 | \n",
       "|  -9 | -12 | \n",
       "|  -5 |   2 | \n",
       "| -13 |   5 | \n",
       "|   1 |   3 | \n",
       "| -16 |   4 | \n",
       "|  -7 |   6 | \n",
       "|   8 |  10 | \n",
       "|   7 |  11 | \n",
       "|   9 |  13 | \n",
       "|  12 |  14 | \n",
       "\n",
       "\n"
      ],
      "text/plain": [
       "      [,1] [,2]\n",
       " [1,]  -2   -4 \n",
       " [2,]  -6   -8 \n",
       " [3,]  -1   -3 \n",
       " [4,] -14  -15 \n",
       " [5,] -10  -11 \n",
       " [6,]  -9  -12 \n",
       " [7,]  -5    2 \n",
       " [8,] -13    5 \n",
       " [9,]   1    3 \n",
       "[10,] -16    4 \n",
       "[11,]  -7    6 \n",
       "[12,]   8   10 \n",
       "[13,]   7   11 \n",
       "[14,]   9   13 \n",
       "[15,]  12   14 "
      ]
     },
     "metadata": {},
     "output_type": "display_data"
    },
    {
     "name": "stdout",
     "output_type": "stream",
     "text": [
      "[1] \"Note that the minus in front of the unit number indicates that this is a single observation being merged;\\nwhereas numbers alone indicate the step at which the considered clusters were built.\"\n"
     ]
    },
    {
     "data": {
      "image/png": "[encoded data removed]",
      "text/plain": [
       "Plot with title “Dendrogram of employment figures: Complete linkage”"
      ]
     },
     "metadata": {},
     "output_type": "display_data"
    }
   ],
   "source": [
    "# Dataset Init\n",
    "data(\"Longley\")\n",
    "longley<-as.data.frame(Longley)\n",
    "x<-longley$employment/1000\n",
    "x\n",
    "label.x<-as.character(c(1947:1962))\n",
    "\n",
    "# Calculate the dissimilarity between observations using the Euclidean distance\n",
    "dist.l<-dist(x,method=\"euclidean\")\n",
    "\n",
    "# Compute a hierarchical cluster analysis on the distance matrix using the complete linkage method\n",
    "h<-hclust(dist.l, method=\"complete\")\n",
    "print(h)\n",
    "\n",
    "# In order to see all the steps of the clustering type:\n",
    "h$merge\n",
    "\n",
    "print(\"Note that the minus in front of the unit number indicates that this is a single observation being merged;\n",
    "whereas numbers alone indicate the step at which the considered clusters were built.\")\n",
    "\n",
    "# Create a plot of the clustering tree\n",
    "plot(h,labels=label.x) # 'plclust' is deprecated\n",
    "title(\"Dendrogram of employment figures: Complete linkage\")\n"
   ]
  },
  {
   "cell_type": "markdown",
   "metadata": {},
   "source": [
    "What is an appropriate number of clusters according to this plot?\n",
    "\n",
    "A common choice is to cut the tree by the largest difference of  heights between two nodes. The height values are contained in the output of hclust function:"
   ]
  },
  {
   "cell_type": "code",
   "execution_count": 3,
   "metadata": {},
   "outputs": [
    {
     "data": {
      "text/html": [
       "<ol class=list-inline>\n",
       "\t<li>0.0649999999999977</li>\n",
       "\t<li>0.122</li>\n",
       "\t<li>0.152000000000001</li>\n",
       "\t<li>0.23299999999999</li>\n",
       "\t<li>0.311999999999998</li>\n",
       "\t<li>0.494</li>\n",
       "\t<li>0.540000000000006</li>\n",
       "\t<li>0.798000000000002</li>\n",
       "\t<li>1.016</li>\n",
       "\t<li>1.22</li>\n",
       "\t<li>1.524</li>\n",
       "\t<li>2.694</li>\n",
       "\t<li>3.29200000000001</li>\n",
       "\t<li>6.34200000000001</li>\n",
       "\t<li>10.38</li>\n",
       "</ol>\n"
      ],
      "text/latex": [
       "\\begin{enumerate*}\n",
       "\\item 0.0649999999999977\n",
       "\\item 0.122\n",
       "\\item 0.152000000000001\n",
       "\\item 0.23299999999999\n",
       "\\item 0.311999999999998\n",
       "\\item 0.494\n",
       "\\item 0.540000000000006\n",
       "\\item 0.798000000000002\n",
       "\\item 1.016\n",
       "\\item 1.22\n",
       "\\item 1.524\n",
       "\\item 2.694\n",
       "\\item 3.29200000000001\n",
       "\\item 6.34200000000001\n",
       "\\item 10.38\n",
       "\\end{enumerate*}\n"
      ],
      "text/markdown": [
       "1. 0.0649999999999977\n",
       "2. 0.122\n",
       "3. 0.152000000000001\n",
       "4. 0.23299999999999\n",
       "5. 0.311999999999998\n",
       "6. 0.494\n",
       "7. 0.540000000000006\n",
       "8. 0.798000000000002\n",
       "9. 1.016\n",
       "10. 1.22\n",
       "11. 1.524\n",
       "12. 2.694\n",
       "13. 3.29200000000001\n",
       "14. 6.34200000000001\n",
       "15. 10.38\n",
       "\n",
       "\n"
      ],
      "text/plain": [
       " [1]  0.065  0.122  0.152  0.233  0.312  0.494  0.540  0.798  1.016  1.220\n",
       "[11]  1.524  2.694  3.292  6.342 10.380"
      ]
     },
     "metadata": {},
     "output_type": "display_data"
    }
   ],
   "source": [
    "h.cl<-h$height # height values\n",
    "h.cl"
   ]
  },
  {
   "cell_type": "code",
   "execution_count": 4,
   "metadata": {},
   "outputs": [
    {
     "data": {
      "text/html": [
       "<ol class=list-inline>\n",
       "\t<li>0.065</li>\n",
       "\t<li>0.057</li>\n",
       "\t<li>0.03</li>\n",
       "\t<li>0.081</li>\n",
       "\t<li>0.079</li>\n",
       "\t<li>0.182</li>\n",
       "\t<li>0.046</li>\n",
       "\t<li>0.258</li>\n",
       "\t<li>0.218</li>\n",
       "\t<li>0.204</li>\n",
       "\t<li>0.304</li>\n",
       "\t<li>1.17</li>\n",
       "\t<li>0.598</li>\n",
       "\t<li>3.05</li>\n",
       "\t<li>4.038</li>\n",
       "</ol>\n"
      ],
      "text/latex": [
       "\\begin{enumerate*}\n",
       "\\item 0.065\n",
       "\\item 0.057\n",
       "\\item 0.03\n",
       "\\item 0.081\n",
       "\\item 0.079\n",
       "\\item 0.182\n",
       "\\item 0.046\n",
       "\\item 0.258\n",
       "\\item 0.218\n",
       "\\item 0.204\n",
       "\\item 0.304\n",
       "\\item 1.17\n",
       "\\item 0.598\n",
       "\\item 3.05\n",
       "\\item 4.038\n",
       "\\end{enumerate*}\n"
      ],
      "text/markdown": [
       "1. 0.065\n",
       "2. 0.057\n",
       "3. 0.03\n",
       "4. 0.081\n",
       "5. 0.079\n",
       "6. 0.182\n",
       "7. 0.046\n",
       "8. 0.258\n",
       "9. 0.218\n",
       "10. 0.204\n",
       "11. 0.304\n",
       "12. 1.17\n",
       "13. 0.598\n",
       "14. 3.05\n",
       "15. 4.038\n",
       "\n",
       "\n"
      ],
      "text/plain": [
       " [1] 0.065 0.057 0.030 0.081 0.079 0.182 0.046 0.258 0.218 0.204 0.304 1.170\n",
       "[13] 0.598 3.050 4.038"
      ]
     },
     "metadata": {},
     "output_type": "display_data"
    },
    {
     "data": {
      "text/html": [
       "4.038"
      ],
      "text/latex": [
       "4.038"
      ],
      "text/markdown": [
       "4.038"
      ],
      "text/plain": [
       "[1] 4.038"
      ]
     },
     "metadata": {},
     "output_type": "display_data"
    },
    {
     "data": {
      "text/html": [
       "15"
      ],
      "text/latex": [
       "15"
      ],
      "text/markdown": [
       "15"
      ],
      "text/plain": [
       "[1] 15"
      ]
     },
     "metadata": {},
     "output_type": "display_data"
    }
   ],
   "source": [
    "h.cl2<-c(0,h.cl[-length(h.cl)]) # vector that has to be substracted from h.cl\n",
    "round(h.cl-h.cl2,3) # differences in height, rounded at the 3rd digit\n",
    "max(round(h.cl-h.cl2,3)) # the largest increase\n",
    "which.max(round(h.cl-h.cl2,3)) # the step of the largest increase"
   ]
  },
  {
   "cell_type": "markdown",
   "metadata": {},
   "source": [
    "According to this approach, the appropriate number of cluster is two, because the largest difference is at the last step of the merging process."
   ]
  },
  {
   "cell_type": "code",
   "execution_count": 5,
   "metadata": {},
   "outputs": [
    {
     "name": "stdout",
     "output_type": "stream",
     "text": [
      "\n",
      "Call:\n",
      "hclust(d = dist.l, method = \"average\")\n",
      "\n",
      "Cluster method   : average \n",
      "Distance         : euclidean \n",
      "Number of objects: 16 \n",
      "\n"
     ]
    },
    {
     "data": {
      "image/png": "[encoded data removed]",
      "text/plain": [
       "Plot with title “Dendrogram of employment figures: Average linkage”"
      ]
     },
     "metadata": {},
     "output_type": "display_data"
    }
   ],
   "source": [
    "# Compute a hierarchical cluster analysis on the distance matrix using the average linkage method:\n",
    "\n",
    "h<-hclust(dist.l,method=\"average\")\n",
    "print(h)\n",
    "\n",
    "plot(h,labels=label.x) # 'plclust' is deprecated\n",
    "title(\"Dendrogram of employment figures: Average linkage\")"
   ]
  },
  {
   "cell_type": "markdown",
   "metadata": {},
   "source": [
    "\n",
    "In order to choose where to cut the tree, the differences in the height values are evaluated:"
   ]
  },
  {
   "cell_type": "code",
   "execution_count": 6,
   "metadata": {},
   "outputs": [
    {
     "data": {
      "text/html": [
       "<ol class=list-inline>\n",
       "\t<li>0.0649999999999977</li>\n",
       "\t<li>0.122</li>\n",
       "\t<li>0.152000000000001</li>\n",
       "\t<li>0.23299999999999</li>\n",
       "\t<li>0.311999999999998</li>\n",
       "\t<li>0.479000000000006</li>\n",
       "\t<li>0.494</li>\n",
       "\t<li>0.642000000000003</li>\n",
       "\t<li>0.907499999999999</li>\n",
       "\t<li>1.1035</li>\n",
       "\t<li>1.277</li>\n",
       "\t<li>1.58833333333333</li>\n",
       "\t<li>2.3</li>\n",
       "\t<li>3.98958333333334</li>\n",
       "\t<li>5.92666666666666</li>\n",
       "</ol>\n"
      ],
      "text/latex": [
       "\\begin{enumerate*}\n",
       "\\item 0.0649999999999977\n",
       "\\item 0.122\n",
       "\\item 0.152000000000001\n",
       "\\item 0.23299999999999\n",
       "\\item 0.311999999999998\n",
       "\\item 0.479000000000006\n",
       "\\item 0.494\n",
       "\\item 0.642000000000003\n",
       "\\item 0.907499999999999\n",
       "\\item 1.1035\n",
       "\\item 1.277\n",
       "\\item 1.58833333333333\n",
       "\\item 2.3\n",
       "\\item 3.98958333333334\n",
       "\\item 5.92666666666666\n",
       "\\end{enumerate*}\n"
      ],
      "text/markdown": [
       "1. 0.0649999999999977\n",
       "2. 0.122\n",
       "3. 0.152000000000001\n",
       "4. 0.23299999999999\n",
       "5. 0.311999999999998\n",
       "6. 0.479000000000006\n",
       "7. 0.494\n",
       "8. 0.642000000000003\n",
       "9. 0.907499999999999\n",
       "10. 1.1035\n",
       "11. 1.277\n",
       "12. 1.58833333333333\n",
       "13. 2.3\n",
       "14. 3.98958333333334\n",
       "15. 5.92666666666666\n",
       "\n",
       "\n"
      ],
      "text/plain": [
       " [1] 0.065000 0.122000 0.152000 0.233000 0.312000 0.479000 0.494000 0.642000\n",
       " [9] 0.907500 1.103500 1.277000 1.588333 2.300000 3.989583 5.926667"
      ]
     },
     "metadata": {},
     "output_type": "display_data"
    },
    {
     "data": {
      "text/html": [
       "<ol class=list-inline>\n",
       "\t<li>0.065</li>\n",
       "\t<li>0.057</li>\n",
       "\t<li>0.03</li>\n",
       "\t<li>0.081</li>\n",
       "\t<li>0.079</li>\n",
       "\t<li>0.167</li>\n",
       "\t<li>0.015</li>\n",
       "\t<li>0.148</li>\n",
       "\t<li>0.265</li>\n",
       "\t<li>0.196</li>\n",
       "\t<li>0.173</li>\n",
       "\t<li>0.311</li>\n",
       "\t<li>0.712</li>\n",
       "\t<li>1.69</li>\n",
       "\t<li>1.937</li>\n",
       "</ol>\n"
      ],
      "text/latex": [
       "\\begin{enumerate*}\n",
       "\\item 0.065\n",
       "\\item 0.057\n",
       "\\item 0.03\n",
       "\\item 0.081\n",
       "\\item 0.079\n",
       "\\item 0.167\n",
       "\\item 0.015\n",
       "\\item 0.148\n",
       "\\item 0.265\n",
       "\\item 0.196\n",
       "\\item 0.173\n",
       "\\item 0.311\n",
       "\\item 0.712\n",
       "\\item 1.69\n",
       "\\item 1.937\n",
       "\\end{enumerate*}\n"
      ],
      "text/markdown": [
       "1. 0.065\n",
       "2. 0.057\n",
       "3. 0.03\n",
       "4. 0.081\n",
       "5. 0.079\n",
       "6. 0.167\n",
       "7. 0.015\n",
       "8. 0.148\n",
       "9. 0.265\n",
       "10. 0.196\n",
       "11. 0.173\n",
       "12. 0.311\n",
       "13. 0.712\n",
       "14. 1.69\n",
       "15. 1.937\n",
       "\n",
       "\n"
      ],
      "text/plain": [
       " [1] 0.065 0.057 0.030 0.081 0.079 0.167 0.015 0.148 0.265 0.196 0.173 0.311\n",
       "[13] 0.712 1.690 1.937"
      ]
     },
     "metadata": {},
     "output_type": "display_data"
    },
    {
     "data": {
      "text/html": [
       "1.937"
      ],
      "text/latex": [
       "1.937"
      ],
      "text/markdown": [
       "1.937"
      ],
      "text/plain": [
       "[1] 1.937"
      ]
     },
     "metadata": {},
     "output_type": "display_data"
    },
    {
     "data": {
      "text/html": [
       "15"
      ],
      "text/latex": [
       "15"
      ],
      "text/markdown": [
       "15"
      ],
      "text/plain": [
       "[1] 15"
      ]
     },
     "metadata": {},
     "output_type": "display_data"
    },
    {
     "data": {
      "image/png": "[encoded data removed]",
      "text/plain": [
       "Plot with title “Cluster Dendrogram”"
      ]
     },
     "metadata": {},
     "output_type": "display_data"
    }
   ],
   "source": [
    "h.cl<-h$height # height values\n",
    "h.cl\n",
    "h.cl2<-c(0,h.cl[-length(h.cl)]) # vector that has to be substracted from h.cl\n",
    "round(h.cl-h.cl2,3) # differences in height, rounded at the 3rd digit\n",
    "max(round(h.cl-h.cl2,3)) # the largest increase\n",
    "which.max(round(h.cl-h.cl2,3)) # the step of the largest increase\n",
    "plot(h)\n"
   ]
  },
  {
   "cell_type": "markdown",
   "metadata": {},
   "source": [
    "## Example 2\n",
    "\n",
    "Consider data set `lifeexp.dat`. It contains life expectancy in the 1960s distinguished by country, age and sex.\n",
    "\n",
    "Perform single, complete and average linkage agglomerative hierarchical cluster based on the Euclidean distance measure and produce suitable plots."
   ]
  },
  {
   "cell_type": "code",
   "execution_count": 16,
   "metadata": {},
   "outputs": [
    {
     "name": "stderr",
     "output_type": "stream",
     "text": [
      "Warning message in dist(life):\n",
      "“NAs introduced by coercion”Warning message in dist(life):\n",
      "“NAs introduced by coercion”Warning message in dist(life):\n",
      "“NAs introduced by coercion”"
     ]
    },
    {
     "data": {
      "image/png": "[encoded data removed]",
      "text/plain": [
       "Plot with title “Average Linkage”"
      ]
     },
     "metadata": {},
     "output_type": "display_data"
    }
   ],
   "source": [
    "life<-read.table(\"./lifeexp.dat\",header=TRUE, fill = TRUE, row.names = NULL)\n",
    "#life <- read.delim(\"./lifeexp.dat\", sep=\" \", fill=TRUE) \n",
    "\n",
    "life = life[complete.cases(life),]\n",
    "#life[life==\"\"] <- NA\n",
    "#life\n",
    "rownames(life)<-life[,1]\n",
    "country <-rownames(life)\n",
    "\n",
    "par(mfrow=c(1,3))\n",
    "plot(hclust(dist(life), method=\"single\"), labels=country , ylab=\"Distance\")\n",
    "title(\"Single Linkage\")\n",
    "plot(hclust(dist(life), method=\"complete\"), labels=country, ylab=\"Distance\")\n",
    "title(\"Complete Linkage\")\n",
    "plot(hclust(dist(life), method=\"average\"), labels=country , ylab=\"Distance\")\n",
    "title(\"Average Linkage\")"
   ]
  },
  {
   "cell_type": "markdown",
   "metadata": {},
   "source": [
    "The singe linkage method shows a high degree of asymmetry – an example of 'chaining', i.e. result of\n",
    "'prematurely'  combining  individuals/clusters  using  the  minimum  distance  criteria  which  defines  single linkage.\n",
    "\n",
    "The complete linkage method is much more balanced in the way it forms clusters, producing four or five clear clusters.\n",
    "\n",
    "The average linkage method returns clusters which again show asymmetry, but not as pronounced as single linkage.\n",
    "\n",
    "Suppose to cut the complete linkage dendrogram at height 8: it would yield 4 clusters. Try to construct four clusters using the k-means algorithm as follows:"
   ]
  },
  {
   "cell_type": "code",
   "execution_count": 15,
   "metadata": {},
   "outputs": [
    {
     "name": "stderr",
     "output_type": "stream",
     "text": [
      "Warning message in kmeans(life2, 4):\n",
      "“NAs introduced by coercion”"
     ]
    },
    {
     "ename": "ERROR",
     "evalue": "Error in do_one(nmeth): NA/NaN/Inf in foreign function call (arg 1)\n",
     "output_type": "error",
     "traceback": [
      "Error in do_one(nmeth): NA/NaN/Inf in foreign function call (arg 1)\nTraceback:\n",
      "1. kmeans(life2, 4)",
      "2. do_one(nmeth)"
     ]
    }
   ],
   "source": [
    "\n",
    "clusters.km <- kmeans(life,4) \n",
    "country.clus.km <- lapply(1:4,function(nc) \n",
    "country[clusters.km$cluster==nc])\n",
    "    "
   ]
  },
  {
   "cell_type": "markdown",
   "metadata": {},
   "source": [
    "## Example 3\n",
    "Consider again the `sparrowElphick` dataset. Now try to use the k-means cluster analysis to check whether there are two clusters,\n",
    "one containing the sparrows which survived and the other the sparrows which died.\n",
    "\n",
    "Using the R-function kmeans(), select two clusters and obtain the following output:"
   ]
  },
  {
   "cell_type": "code",
   "execution_count": 21,
   "metadata": {},
   "outputs": [
    {
     "name": "stderr",
     "output_type": "stream",
     "text": [
      "Warning message in file(file, \"rt\"):\n",
      "“cannot open file './SparrowsElphic.txt': No such file or directory”"
     ]
    },
    {
     "ename": "ERROR",
     "evalue": "Error in file(file, \"rt\"): cannot open the connection\n",
     "output_type": "error",
     "traceback": [
      "Error in file(file, \"rt\"): cannot open the connection\nTraceback:\n",
      "1. read.table(\"./SparrowsElphic.txt\", header = TRUE)",
      "2. file(file, \"rt\")"
     ]
    }
   ],
   "source": [
    "sparrows<-read.table(\"./SparrowsElphic.txt\",header=TRUE)\n",
    "kmeans(sparrows, 2)"
   ]
  },
  {
   "cell_type": "markdown",
   "metadata": {},
   "source": [
    "Do the two clusters contain dead/alive sparrows respectively? No.\n",
    "Run now the k-means clustering allowing the number of clusters to vary from 2 to 5 and compare the results in terms of ASW and PG indexes.\n",
    "\n",
    "ASW and PG indexes can be obtained with the function cluster.stats, in package fpc."
   ]
  },
  {
   "cell_type": "code",
   "execution_count": null,
   "metadata": {
    "collapsed": true
   },
   "outputs": [],
   "source": [
    "# Libraries \n",
    "install.packages('fpc')\n",
    "library(fpc)"
   ]
  },
  {
   "cell_type": "code",
   "execution_count": null,
   "metadata": {
    "collapsed": true
   },
   "outputs": [],
   "source": [
    "?cluster.stats\n",
    "dist.data<-dist(sparrows,\"euclidean\")\n",
    "cl2<-kmeans(sparrows, 2)\n",
    "out.cl2<-cluster.stats(dist.data,cl2$cluster)\n",
    "out.cl2$avg.silwidth"
   ]
  },
  {
   "cell_type": "markdown",
   "metadata": {},
   "source": [
    "According to the values of the two indexes, the k-means with two clusters produces more homogenous groups; the second best choice would be fixing the number k of clusters equal to 3.\n",
    "\n",
    "A meaningful representation of the clustering outcome is the so called 'silhouette plot'. On the x-axis it shows the silhouette width for each observation in the corresponding cluster; units in the same cluster are plotted in decreasing order according to their silhouette value. Different clusters are separately plotted. Furthermore, it reports the number of observations in each cluster and the average silhouette width of the classification.\n",
    "\n",
    "In  order  to  produce  a  silhouette  plot  we  need  to  load  the  cluster library  and  to  use  function\n",
    "silhouette:"
   ]
  },
  {
   "cell_type": "code",
   "execution_count": 22,
   "metadata": {},
   "outputs": [
    {
     "ename": "ERROR",
     "evalue": "Error in silhouette(cl2$cluster, dist.data): object 'cl2' not found\n",
     "output_type": "error",
     "traceback": [
      "Error in silhouette(cl2$cluster, dist.data): object 'cl2' not found\nTraceback:\n",
      "1. silhouette(cl2$cluster, dist.data)"
     ]
    }
   ],
   "source": [
    "library(cluster)\n",
    "sil<-silhouette(cl2$cluster,dist.data)\n",
    "plot(sil,cex.names=0.6,nmax=98,main=\"Silhouette Plot for 'Sparrows' dataset, k=2\")"
   ]
  },
  {
   "cell_type": "markdown",
   "metadata": {},
   "source": [
    "Or, with coloured clusters:\n",
    "\n"
   ]
  },
  {
   "cell_type": "code",
   "execution_count": null,
   "metadata": {
    "collapsed": true
   },
   "outputs": [],
   "source": [
    "plot(sil,cex.names=0.6,nmax=98,main=\"Silhouette Plot for 'Sparrows' dataset, k=2\", col=c(\"red\",\"green\"))"
   ]
  }
 ],
 "metadata": {
  "kernelspec": {
   "display_name": "R",
   "language": "R",
   "name": "ir"
  },
  "language_info": {
   "codemirror_mode": "r",
   "file_extension": ".r",
   "mimetype": "text/x-r-source",
   "name": "R",
   "pygments_lexer": "r",
   "version": "3.3.2"
  }
 },
 "nbformat": 4,
 "nbformat_minor": 2
}
