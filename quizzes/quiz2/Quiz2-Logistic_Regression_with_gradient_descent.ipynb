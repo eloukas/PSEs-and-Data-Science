{
 "cells": [
  {
   "cell_type": "markdown",
   "metadata": {},
   "source": [
    "## Take home Quiz #2 \n",
    "    1) The **Quiz 2 - Logistic Regression with Gradient Descent** notebook describes very clearly the **logistic regression** method for classifying data where the dependent variable takes binary values.\n",
    "    2) The notebook ** Quiz 2: gradientdescent - reading assignment** applies variations of gradient descent including **stochastic gradient descent** method to linear regression problem. \n",
    "    3) You are supposed to implement the gradient descent methods in 2) for solving the logistic regression problem using the data set from notebook 1).\n",
    "    4) you are supposed to compare the various gradient methods for logistic regression problem using as measures a) the number of iterations required, b) times, and c) accuracy (compare the solution  with the one obtained from sklearn routine). You can use your own larger dataset.\n",
    "    5) On thursday I will ask randomly various groups to present parts of take home quiz 2\n",
    "    6) Submit the take home quiz 2 by Thursday Nov. 5"
   ]
  },
  {
   "cell_type": "markdown",
   "metadata": {},
   "source": [
    "## Understanding Logistic Regression\n",
    "\n",
    "This notebook  discusses the basics of Logistic Regression and its implementation in Python. Logistic regression is basically a supervised classification algorithm. In a classification problem, the target variable(or output), y, can take only discrete values for given set of features(or inputs), X.\n",
    "We can also say that the target variable is categorical. Based on the number of categories, Logistic regression can be classified as:\n",
    "\n",
    "    1.\tbinomial: target variable can have only 2 possible types: “0” or “1” which may represent “win” vs “loss”, “pass” vs “fail”, “dead” vs “alive”, etc. \n",
    "    2.\tmultinomial: target variable can have 3 or more possible types which are not ordered(i.e. types have no quantitative significance) like “disease A” vs “disease B” vs “disease C”. \n",
    "    3.\tordinal: it deals with target variables with ordered categories. For example, a test score can be categorized as:“very poor”, “poor”, “good”, “very good”. Here, each category can be given a score like 0, 1, 2, 3. \n",
    "    \n",
    "First of all, we explore the simplest form of Logistic Regression, i.e **Binomial Logistic Regression**.\n",
    "\n",
    "### Binomial Logistic Regression\n",
    "\n",
    "Consider an example dataset which maps the number of hours of study with the result of an exam. The result can take only two values, namely passed(1) or failed(0):\n",
    "\n",
    "**Hours(x)**:\t0.50\t0.75\t1.00\t1.25\t1.50\t1.75\t2.00\t2.25\t2.50\t2.75\t3.00\t3.25\t3.50\t3.75\t4.00\t4.25\t4.50\t4.75\t5.00\t5.50\n",
    "    \n",
    "**Pass(y)**:\t0\t0\t0\t0\t0\t0\t1\t0\t1\t0\t1\t0\t1\t0\t1\t1\t1\t1\t1\t1\n",
    "    \n",
    "So, we have\n",
    "\n",
    "  $$ y = \\begin{cases} 0, & \\text{if exam fail} \\\\\n",
    "                    1, & \\text{if exam pass}\n",
    "  \\end{cases}\n",
    "  $$\n",
    " \n",
    "i.e. y is a categorical target variable which can take only two possible type:$\"0\"$ or $“1”$."
   ]
  },
  {
   "cell_type": "markdown",
   "metadata": {},
   "source": [
    "In order to generalize our model, we assume that:\n",
    "•\tThe dataset has $'p'$ feature variables and $'n'$  observations. \n",
    "•\tThe feature matrix is represented as:\n",
    "\n",
    "\n",
    "$$\n",
    "X = \n",
    "\\begin{pmatrix}\n",
    "1 & x_{11} & \\dots & x_{1p}\\\\\n",
    "1 & x_{21} & \\dots & x_{2p}\\\\\n",
    "\\vdots &\\vdots & \\ddots & \\vdots \\\\\n",
    "1 & x_{n1} & \\dots & x_{np}\\\\\n",
    "\\end{pmatrix}\n",
    "$$\n",
    "\n",
    " Here,  $x_ij$ denotes the values of $j^{th}$ feature for  $i^{th}$ observation.\n",
    " Here, we are keeping the convention of letting $x_{i0} = 1$. (Keep reading, you will understand the logic in a few moments). \n",
    "•\tThe $i^{th}$ observation, $x_i$ , can be represented as:\n",
    "\n",
    " $x_i = \\begin{pmatrix}1\\\\x_{i1}\\\\x_{i2}\\\\ \\vdots \\\\x_{ip}\\end{pmatrix}$\n",
    " \n",
    "•\t$h(x_i)$ represents the predicted response for $i_{th}$  observation, i.e. $x_{i}$. The formula we use for calculating  $h(x_i)$ is called **hypothesis**. \n",
    "\n",
    "If you have gone though Linear Regression, you should recall that in Linear Regression, the hypothesis we used for prediction was:\n",
    "\n",
    "$h(x_i) = \\beta_0 + \\beta_1x_{i1} + \\beta_2x_{i2} + \\ldots + \\beta_px_{ip}$\n",
    " \n",
    "where, $\\beta_0,\\beta_1,\\dots,\\beta_p$ are the regression coefficients.\n",
    "Let regression coefficient matrix/vector, $\\beta$ be:\n",
    "\n",
    "$\\beta = \\begin{pmatrix}\\beta_0\\\\\\beta_1\\\\\\beta_2\\\\ \\vdots \\\\ \\beta_p\\end{pmatrix}$\n",
    " \n",
    "Then, in a more compact form,\n",
    "\n",
    "$h(x_i) = \\beta^Tx_i$\n",
    "\n",
    ">The reason for taking  $x_0 = 1$ is pretty clear now.\n",
    "We needed to do a matrix product, but there was no\n",
    "actual  $x_0$ multiplied to $\\beta_0$ in original hypothesis formula. So, we defined $x_0 = 1$. \n"
   ]
  },
  {
   "attachments": {
    "sigmoid.png": {
     "image/png": "[encoded data removed]"
    }
   },
   "cell_type": "markdown",
   "metadata": {},
   "source": [
    "Now, if we try to apply Linear Regression on above problem, we are likely to get continuous values using the hypothesis we discussed above. Also, it does not make sense for $h(x_i)$ to take values larger that 1 or smaller than 0.\n",
    "So, some modifications are made to the hypothesis for classification:\n",
    "\n",
    "$h(x_i) = g(\\beta^Tx_i) = \\frac{1}{1+e^{-\\beta^Tx_i}}$\n",
    " \n",
    "where,\n",
    "\n",
    "$g(z) = \\frac{1}{1+e^{-z}}$\n",
    " \n",
    "is called logistic function or the sigmoid function.\n",
    "Here is a plot showing g(z)\n",
    "\n",
    "![sigmoid.png](attachment:sigmoid.png)\n",
    " \n",
    "We can infer from above graph that:\n",
    "\n",
    " •\tg(z) tends towards 1 as  $z \\to \\infty$\n",
    " \n",
    " •\tg(z) tends towards 0 as  $z \\to -\\infty$\n",
    " \n",
    " •\tg(z) is always bounded between 0 and 1\n",
    "\n",
    "So, now, we can define conditional probabilities for 2 labels(0 and 1) for $i^{th}$ observation as:\n",
    "\n",
    "$P(y_i = 1|x_i;\\beta) = h(x_i)$\n",
    "\n",
    "$P(y_i = 0|x_i;\\beta) = 1 -  h(x_i)$ "
   ]
  },
  {
   "cell_type": "markdown",
   "metadata": {},
   "source": [
    "We can write it more compactly as:\n",
    "\n",
    "$P(y_i|x_i;\\beta) = (h(x_i))^{y_i}(1-h(x_i))^{1-y_i}$\n",
    " \n",
    "Now, we define another term, likelihood of parameters as:\n",
    "\n",
    "$L(\\beta) = \\prod_{i=1}^{n}P(y_i|x_i;\\beta)$\n",
    "\n",
    "or \n",
    "\n",
    "$L(\\beta) = \\prod_{i=1}^{n}(h(x_i))^{y_i}(1-h(x_i))^{1-y_i}$\n",
    "\n",
    ">Likelihood is nothing but the probability of data(training examples), given a model and specific parameter values(here, \\beta ). It measures the support provided by the data for each possible value of the \\beta. We obtain it by multiplying all $P(y_i|x_i)$ for given  \\beta. \n",
    "\n",
    "And for easier calculations, we take log likelihood:\n",
    "\n",
    "$l(\\beta) = log(L(\\beta))$\n",
    "\n",
    "or \n",
    "\n",
    "$l(\\beta) = \\sum_{i=1}^{n}[y_ilog(h(x_i)) + (1 - y_i)log(1 - h(x_i))]$\n",
    " \n",
    "The **cost function** for logistic regression is proportional to inverse of likelihood of parameters. Hence, we can obtain an expression for cost function, $J$ using log likelihood equation as:\n",
    "\n",
    "$J(\\beta) = \\sum_{i=1}^{n}[-y_ilog(h(x_i)) - (1 - y_i)log(1 - h(x_i))]$\n",
    " \n",
    "and our aim is to estimate  so that cost function is minimized !!"
   ]
  },
  {
   "cell_type": "markdown",
   "metadata": {},
   "source": [
    "### Using Gradient descent algorithm\n",
    "\n",
    "Firstly, we take partial derivatives of $J(\\beta)$  w.r.t each  to derive the stochastic gradient descent rule(we present only the final derived value here):\n",
    "\n",
    "$\\frac{\\partial J(\\beta)}{\\partial \\beta_j} = (h(x) - y)x_j$\n",
    " \n",
    "Here, $y$ and $h(x)$ represent the response vector and predicted response vector(respectively). Also, $x_j$ is the vector representing the observation values for $j^{th}$  feature.\n",
    "\n",
    "Now, in order to get min $J(\\beta)$,\n",
    "\n",
    "$Repeat \\\\{\n",
    "    \\beta_j := \\beta_j - \\alpha \\sum_{i=1}^{n}(h(x_i) -                 y_i)x_{ij} \\\\\n",
    "    \\text {simultaneously update all } \\beta_j\n",
    "    }$\n",
    "\n",
    "\n",
    "where  $\\alpha$ is called learning rate and needs to be set explicitly.\n"
   ]
  },
  {
   "cell_type": "code",
   "execution_count": 1,
   "metadata": {
    "collapsed": true
   },
   "outputs": [],
   "source": [
    "import csv\n",
    "import numpy as np\n",
    "import matplotlib.pyplot as plt\n",
    "from sklearn.utils import shuffle\n",
    "%matplotlib inline\n",
    "\n",
    "\n",
    "def loadCSV(filename):\n",
    "    '''\n",
    "    function to load dataset\n",
    "    '''\n",
    "    with open(filename,\"r\") as csvfile:\n",
    "        lines = csv.reader(csvfile)\n",
    "        dataset = list(lines)\n",
    "        for i in range(len(dataset)):\n",
    "            dataset[i] = [float(x) for x in dataset[i]]     \n",
    "    return np.array(dataset)\n",
    "\n",
    "\n",
    "def normalize(X):\n",
    "    '''\n",
    "    function to normalize feature matrix, X\n",
    "    '''\n",
    "    mins = np.min(X, axis = 0)\n",
    "    maxs = np.max(X, axis = 0)\n",
    "    rng = maxs - mins\n",
    "    norm_X = 1 - ((maxs - X)/rng)\n",
    "    return norm_X\n",
    "\n",
    "\n",
    "def logistic_func(beta, X):\n",
    "    '''\n",
    "    logistic(sigmoid) function\n",
    "    '''\n",
    "    return 1.0/(1 + np.exp(-np.dot(X, beta.T)))\n",
    "\n",
    "def log_gradient(beta, X, y):\n",
    "    '''\n",
    "    logistic gradient function\n",
    "    '''\n",
    "    first_calc = logistic_func(beta, X) - y.reshape(X.shape[0], -1)\n",
    "    final_calc = np.dot(first_calc.T, X)\n",
    "    return final_calc\n",
    "\n",
    "def cost_func(beta, X, y):\n",
    "    '''\n",
    "    cost function, J\n",
    "    '''\n",
    "    log_func_v = logistic_func(beta, X)\n",
    "    y = np.squeeze(y)\n",
    "    step1 = y * np.log(log_func_v)\n",
    "    step2 = (1 - y) * np.log(1 - log_func_v)\n",
    "    final = -step1 - step2\n",
    "    return np.mean(final)\n",
    "\n",
    "def pred_values(beta, X):\n",
    "    '''\n",
    "    function to predict labels\n",
    "    '''\n",
    "    pred_prob = logistic_func(beta, X)\n",
    "    pred_value = np.where(pred_prob >= .5, 1, 0)\n",
    "    return np.squeeze(pred_value)\n",
    "\n",
    "\n",
    "def plot_reg(X, y, beta):\n",
    "    '''\n",
    "    function to plot decision boundary\n",
    "    '''\n",
    "    # labelled observations\n",
    "    x_0 = X[np.where(y == 0.0)]\n",
    "    x_1 = X[np.where(y == 1.0)]\n",
    "    x0_0 = [] \n",
    "    x1_1 = []\n",
    "    x0_0 = np.array(x_0[:,1])\n",
    "    x0_1 = np.array(x_0[:,2])\n",
    "    x1_0 = np.array(x_1[:,1])\n",
    "    x1_1 = np.array(x_1[:,2])\n",
    "    \n",
    "    # plotting points with diff color for diff label\n",
    "    plt.scatter(x0_0, x0_1, c='b', label='y = 0')\n",
    "    plt.scatter(x1_0, x1_1, c='r', label='y = 1')\n",
    "    \n",
    "    # plotting decision boundary\n",
    "    x1 = np.arange(0, 1, 0.1)\n",
    "    x2 = -(beta[0,0] + beta[0,1]*x1)/beta[0,2]\n",
    "    plt.plot(x1, x2, c='k', label='reg line')\n",
    "\n",
    "    plt.xlabel('x1')\n",
    "    plt.ylabel('x2')\n",
    "    plt.legend()\n",
    "    plt.show()"
   ]
  },
  {
   "cell_type": "code",
   "execution_count": 2,
   "metadata": {},
   "outputs": [],
   "source": [
    "# Read the dataset and prepare the X,y and betas for gradient descent!\n",
    "\n",
    "# load the dataset\n",
    "dataset = loadCSV('dataset1.csv')\n",
    "        \n",
    "# normalizing feature matrix\n",
    "X = normalize(dataset[:, :-1])\n",
    "\n",
    "# stacking columns wth all ones in feature matrix\n",
    "X = np.hstack((np.matrix(np.ones(X.shape[0])).T, X))\n",
    "\n",
    "# response vector\n",
    "y = dataset[:, -1]\n",
    "\n",
    "# splitting X and y into training and testing sets\n",
    "from sklearn.model_selection import train_test_split\n",
    "X_train, X_test, y_train, y_test = train_test_split(X, y, test_size=0.2,\n",
    "                                                    random_state=1)"
   ]
  },
  {
   "cell_type": "markdown",
   "metadata": {},
   "source": [
    "### Exercise 1\n",
    "\n",
    "Implement the variations of gradient descent  described in Quiz 2 - gradientdescent notebook for the logistic regression and the above dataset. You can use a larger dataset and compare these variations."
   ]
  },
  {
   "cell_type": "markdown",
   "metadata": {},
   "source": [
    "### i) Batch gradient descent for logistic regression"
   ]
  },
  {
   "cell_type": "code",
   "execution_count": 3,
   "metadata": {},
   "outputs": [
    {
     "name": "stdout",
     "output_type": "stream",
     "text": [
      "Estimated regression coefficients: [[  1.9132723   13.52636045 -18.91401207]]\n",
      "No. of iterations: 2497\n",
      "Logistic Regression model accuracy (%): 100.0\n"
     ]
    }
   ],
   "source": [
    "def grad_desc(X, y, beta, lr=.01, converge_change=.001):\n",
    "    '''\n",
    "    gradient descent function\n",
    "    '''\n",
    "    cost = cost_func(beta, X, y)\n",
    "    change_cost = 1\n",
    "    num_iter = 1\n",
    "    \n",
    "    while(change_cost > converge_change):\n",
    "        old_cost = cost\n",
    "        beta = beta - (lr * log_gradient(beta, X, y))\n",
    "        cost = cost_func(beta, X, y)\n",
    "        change_cost = old_cost - cost\n",
    "        num_iter += 1\n",
    "    \n",
    "    return beta, num_iter \n",
    "\n",
    "# initial beta values\n",
    "beta = np.matrix(np.zeros(X.shape[1]))\n",
    "\n",
    "# beta values after running gradient descent\n",
    "beta, num_iter = grad_desc(X_train, y_train, beta)\n",
    "\n",
    "# estimated beta values and number of iterations\n",
    "print(\"Estimated regression coefficients:\", beta)\n",
    "print(\"No. of iterations:\", num_iter)\n",
    "\n",
    "# predicted labels\n",
    "y_pred = pred_values(beta, X_test)\n",
    "\n",
    "# comparing actual response values (y_test) with predicted response values (y_pred)\n",
    "print(\"Logistic Regression model accuracy (%):\",  (np.sum(y_test == y_pred) / y_test.shape[0]) * 100.0)"
   ]
  },
  {
   "cell_type": "markdown",
   "metadata": {},
   "source": [
    "### ii) Stochastic gradient descent"
   ]
  },
  {
   "cell_type": "code",
   "execution_count": 4,
   "metadata": {},
   "outputs": [
    {
     "name": "stdout",
     "output_type": "stream",
     "text": [
      "Estimated regression coefficients: [[-0.06130168  0.41557807 -0.91305648]]\n",
      "No. of iterations: 100\n",
      "Logistic Regression model accuracy (%): 65.0\n"
     ]
    }
   ],
   "source": [
    "def stochastic_grad_desc(X, y, beta, max_iter, lr):\n",
    "    '''\n",
    "    stochastic gradient descent function\n",
    "    '''\n",
    "    X, y = shuffle(X,y)\n",
    "    cost = cost_func(beta, X[0,:], y[0])\n",
    "    change_cost = 1\n",
    "    num_iter = 1\n",
    "    i = 1\n",
    "    \n",
    "    while(1):\n",
    "        old_cost = cost\n",
    "        beta = beta - (lr * log_gradient(beta, X[i,:], y[i]))\n",
    "        cost = cost_func(beta, X[i,:], y[i])\n",
    "        change_cost = old_cost - cost\n",
    "        num_iter += 1\n",
    "        i += 1\n",
    "        \n",
    "        if (i == X.shape[0]): # again from beginning of X!\n",
    "            X, y = shuffle(X,y) # reshuffle!\n",
    "            i = 0\n",
    "            \n",
    "        if (num_iter == max_iter):\n",
    "            break\n",
    "    \n",
    "    return beta, num_iter \n",
    "\n",
    "# initial beta values for stochastic gradient descent\n",
    "stochastic_beta = np.matrix(np.zeros(X.shape[1]))\n",
    "\n",
    "# NOTE: modify these values for experimentation\n",
    "max_iter = 100\n",
    "learning_rate = 0.1\n",
    "\n",
    "# beta values after running gradient descent\n",
    "stochastic_beta, num_iter = stochastic_grad_desc(X_train, y_train, stochastic_beta,\n",
    "                                                 max_iter, learning_rate)\n",
    "\n",
    "# estimated beta values and number of iterations\n",
    "print(\"Estimated regression coefficients:\", stochastic_beta)\n",
    "print(\"No. of iterations:\", num_iter)\n",
    "\n",
    "# predicted labels\n",
    "y_pred = pred_values(stochastic_beta, X_test)\n",
    "\n",
    "# comparing actual response values (y_test) with predicted response values (y_pred)\n",
    "print(\"Logistic Regression model accuracy (%):\",  (np.sum(y_test == y_pred) / y_test.shape[0]) * 100.0)"
   ]
  },
  {
   "cell_type": "markdown",
   "metadata": {
    "collapsed": true
   },
   "source": [
    "### Batch vs Stochastic\n",
    "\n",
    "# LOUKA EDW ALLA3ETO!\n",
    "Batch means that you use all your data to compute the gradient during one iteration.\n",
    "\n",
    "Stochastic gradient descent method, is to update betas sequentially with every observation.\n",
    "\n",
    "In both methods, we try to achieve 100 correctly predicted labels. So, to achieve this in **Batch** we have 2577 No. of iterations, but in each of these iterations, we use all of our data. In contrast, with **Stochastic gradient** we have 3300 No. of iterations, but in each of these iterations we use one pair of (x,y) at a time.\n",
    "\n",
    "**Stochastic gradient** is computationally cheaper, but it results in a larger variance of the loss function in comparison with batch gradient descent. To understand this, we can observe how different are the estimated regression coefficients."
   ]
  },
  {
   "cell_type": "code",
   "execution_count": 5,
   "metadata": {},
   "outputs": [
    {
     "data": {
      "image/png": "[encoded data removed]",
      "text/plain": [
       "<matplotlib.figure.Figure at 0x7f632c1ad5f8>"
      ]
     },
     "metadata": {},
     "output_type": "display_data"
    },
    {
     "data": {
      "image/png": "[encoded data removed]",
      "text/plain": [
       "<matplotlib.figure.Figure at 0x7f62ef7bed68>"
      ]
     },
     "metadata": {},
     "output_type": "display_data"
    }
   ],
   "source": [
    "# plotting regression line\n",
    "plot_reg(X, y, beta)\n",
    "\n",
    "# plotting regression line\n",
    "plot_reg(X, y, stochastic_beta)"
   ]
  },
  {
   "cell_type": "code",
   "execution_count": 6,
   "metadata": {},
   "outputs": [
    {
     "name": "stdout",
     "output_type": "stream",
     "text": [
      "Estimated regression coefficients: [[ 0.61406197  1.47741471 -2.20469699]]\n",
      "No. of iterations: 33\n",
      "Logistic Regression model accuracy(in %): 80.0\n"
     ]
    }
   ],
   "source": [
    "def minibatch_grad_desc(X, y, beta, epochs, minibatch_size, lr):\n",
    "    '''\n",
    "    minibatch gradient descent function\n",
    "    '''\n",
    "    cost = cost_func(beta, X[0:minibatch_size,:], y[0:minibatch_size])\n",
    "    change_cost = 1\n",
    "    num_iter = 1\n",
    "\n",
    "    for iter in range(epochs):\n",
    "        X, y = shuffle(X,y)\n",
    "        for i in range(0,X.shape[0], minibatch_size):\n",
    "            minibatch_end = min(i + minibatch_size, X.shape[0])\n",
    "            \n",
    "            old_cost = cost\n",
    "            beta = beta - (lr * log_gradient(beta, X[i:minibatch_end, :], y[i:minibatch_end]))\n",
    "            cost = cost_func(beta, X[i:minibatch_end, :], y[i:minibatch_end])\n",
    "            change_cost = old_cost - cost\n",
    "            num_iter += 1\n",
    "    \n",
    "    return beta, num_iter \n",
    "\n",
    "# initial beta values for stochastic gradient descent\n",
    "minibatch_beta = np.matrix(np.zeros(X.shape[1]))\n",
    "\n",
    "# NOTE: modify these values for experimentation\n",
    "epochs = 4\n",
    "minibatch_size = 10\n",
    "learning_rate = 0.1\n",
    "\n",
    "# beta values after running gradient descent\n",
    "minibatch_beta, num_iter = minibatch_grad_desc(X_train, y_train, minibatch_beta,\n",
    "                                               epochs, minibatch_size, learning_rate)\n",
    "\n",
    "# estimated beta values and number of iterations\n",
    "print(\"Estimated regression coefficients:\", minibatch_beta)\n",
    "print(\"No. of iterations:\", num_iter)\n",
    "\n",
    "# predicted labels\n",
    "y_pred = pred_values(minibatch_beta, X_test)\n",
    "\n",
    "# comparing actual response values (y_test) with predicted response values (y_pred)\n",
    "print(\"Logistic Regression model accuracy(in %):\",  (np.sum(y_test == y_pred) / y_test.shape[0]) * 100.0)"
   ]
  },
  {
   "cell_type": "code",
   "execution_count": 7,
   "metadata": {},
   "outputs": [
    {
     "data": {
      "image/png": "[encoded data removed]",
      "text/plain": [
       "<matplotlib.figure.Figure at 0x7f62ef6ebe48>"
      ]
     },
     "metadata": {},
     "output_type": "display_data"
    },
    {
     "data": {
      "image/png": "[encoded data removed]",
      "text/plain": [
       "<matplotlib.figure.Figure at 0x7f62ef6b5e80>"
      ]
     },
     "metadata": {},
     "output_type": "display_data"
    },
    {
     "data": {
      "image/png": "[encoded data removed]",
      "text/plain": [
       "<matplotlib.figure.Figure at 0x7f62ef6b5cf8>"
      ]
     },
     "metadata": {},
     "output_type": "display_data"
    }
   ],
   "source": [
    "# plotting regression line\n",
    "plot_reg(X, y, beta)\n",
    "\n",
    "# plotting regression line\n",
    "plot_reg(X, y, stochastic_beta)\n",
    "\n",
    "# plotting regression line\n",
    "plot_reg(X, y, minibatch_beta)"
   ]
  },
  {
   "cell_type": "markdown",
   "metadata": {},
   "source": [
    "### Exercise 2  \n",
    "\n",
    "**Modify this  example of using sklearn routines to solve the logistic regression problem with the above data set**"
   ]
  },
  {
   "cell_type": "code",
   "execution_count": 8,
   "metadata": {},
   "outputs": [
    {
     "name": "stdout",
     "output_type": "stream",
     "text": [
      "Logistic Regression model accuracy(in %): 100.0\n"
     ]
    }
   ],
   "source": [
    "from sklearn import datasets, linear_model, metrics\n",
    "\n",
    "# splitting X and y into training and testing sets\n",
    "from sklearn.model_selection import train_test_split\n",
    "X_train, X_test, y_train, y_test = train_test_split(X, y, test_size=0.1,\n",
    "                                                    random_state=1)\n",
    " \n",
    "# create logistic regression object\n",
    "reg = linear_model.LogisticRegression()\n",
    " \n",
    "# train the model using the training sets\n",
    "reg.fit(X_train, y_train)\n",
    "\n",
    "# making predictions on the testing set\n",
    "y_pred = reg.predict(X_test)\n",
    " \n",
    "# comparing actual response values (y_test) with predicted response values (y_pred)\n",
    "print(\"Logistic Regression model accuracy(in %):\", metrics.accuracy_score(y_test, y_pred) * 100.0)"
   ]
  },
  {
   "cell_type": "code",
   "execution_count": null,
   "metadata": {
    "collapsed": true
   },
   "outputs": [],
   "source": []
  }
 ],
 "metadata": {
  "kernelspec": {
   "display_name": "Python 3.6",
   "language": "python",
   "name": "python36"
  },
  "language_info": {
   "codemirror_mode": {
    "name": "ipython",
    "version": 3
   },
   "file_extension": ".py",
   "mimetype": "text/x-python",
   "name": "python",
   "nbconvert_exporter": "python",
   "pygments_lexer": "ipython3",
   "version": "3.6.0"
  }
 },
 "nbformat": 4,
 "nbformat_minor": 2
}
