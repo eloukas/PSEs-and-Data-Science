{
 "cells": [
  {
   "cell_type": "markdown",
   "metadata": {},
   "source": [
    "# Gradient Descent in R via 'gettingtothebottom' library\n",
    "We tried using it for <br/>\n",
    "1) Wine dataset from UCI ML Repo<br/>\n",
    "2) Wine dataset exported from sci-kit learn's library from python<br/>\n",
    "but it didn't work out telling us:\n",
    "```\n",
    "Minimum function value not attained. A better result might be obtained\n",
    "by decreasing the step size or increasing the number of iterations.\n",
    "```\n",
    "Nothing of the above worked out. We sent out for help to the teaching assistant too.\n",
    "Below is the code that we were trying"
   ]
  },
  {
   "cell_type": "code",
   "execution_count": 1,
   "metadata": {},
   "outputs": [
    {
     "name": "stderr",
     "output_type": "stream",
     "text": [
      "Loading required package: ggplot2\n",
      "Loading required package: grid\n",
      "Loading required package: Matrix\n",
      "Warning message in file(file, \"rt\"):\n",
      "“cannot open file 'wine.csv': No such file or directory”"
     ]
    },
    {
     "ename": "ERROR",
     "evalue": "Error in file(file, \"rt\"): cannot open the connection\n",
     "output_type": "error",
     "traceback": [
      "Error in file(file, \"rt\"): cannot open the connection\nTraceback:\n",
      "1. read.csv(\"wine.csv\", header = TRUE)",
      "2. read.table(file = file, header = header, sep = sep, quote = quote, \n .     dec = dec, fill = fill, comment.char = comment.char, ...)",
      "3. file(file, \"rt\")"
     ]
    }
   ],
   "source": [
    "library(gettingtothebottom)\n",
    "library(ggplot2)\n",
    "library(grid)\n",
    "library(Matrix)\n",
    "\n",
    "df <- read.csv(\"wine.csv\",header = TRUE)\n",
    "\n",
    "X <- as.matrix(cbind(df$alcohol[1:130],df$malic_acid[1:130]), ncol=2) # Attributes : -1- Alcohol, -2- Malic acid\n",
    "y <- as.matrix(df$target[1:130]) # ['class_0' 'class_1'] wine\n",
    "\n",
    "plot(X[,1][60:130], X[,2][60:130],xlab=\"Alcohol \", ylab=\"Malic Acid\", pch=20, col=\"red\")\n",
    "points(X[,1][1:59],X[,2][1:59], pch=20, col=\"blue\")\n",
    "legend(11.0,6.0,legend=c(\"class 0 wine\", \"class 1 wine\"),col=c(\"blue\", \"red\"),pch = 20)\n",
    "\n",
    "b <- matrix(rnorm(2),2,1)\n",
    "l <- function(X,y,b) {\n",
    "-t(y)%*%(X%*%b) + sum(log(1+exp(X%*%b)))\n",
    "}\n",
    "\n",
    "grad_l <- function(X,y,b) {\n",
    "-t(X)%*%(y-plogis(X%*%b))\n",
    "}\n",
    "alpha = 4/(svd(cbind(1,X))$d[1]**2)\n",
    "\n",
    "# Use gradient descent algorithm to solve logistic regression problem\n",
    "logistic_ex <- gdescent(l,grad_l,X,y,alpha=alpha,iter=15000)"
   ]
  },
  {
   "cell_type": "markdown",
   "metadata": {},
   "source": [
    "# Gradient Descent with the gettingtothebottom library for an artificial dataset\n",
    "The artificial dataset is called `data.csv`"
   ]
  },
  {
   "cell_type": "code",
   "execution_count": 2,
   "metadata": {},
   "outputs": [
    {
     "name": "stdout",
     "output_type": "stream",
     "text": [
      "Minimum function value:\n",
      " 242.7879\n",
      "\n",
      "Intercept:\n",
      " -0.08284957\n",
      "\n",
      "Coefficient(s):\n",
      " 0.96433423 -0.50019772 -0.06152356 1.37510776 0.73903052\n",
      "\n"
     ]
    }
   ],
   "source": [
    "library(gettingtothebottom)\n",
    "library(ggplot2)\n",
    "library(grid)\n",
    "library(Matrix)\n",
    "\n",
    "data = read.csv(\"data.csv\",header = TRUE, quote = NULL)\n",
    "\n",
    "n <- dim(data)[1] # number of samples\n",
    "p <- dim(data)[2] # number of features\n",
    "\n",
    "X <- as.matrix(cbind(data$V1[1:500],data$V2[1:500],data$V3[1:500],data$V4[1:500],data$V5[1:500]), ncol=2) \n",
    "y <- as.matrix(data$y[1:500])\n",
    "\n",
    "l <- function(X,y,b) {\n",
    "-t(y)%*%(X%*%b) + sum(log(1+exp(X%*%b)))\n",
    "}\n",
    "\n",
    "grad_l <- function(X,y,b) {\n",
    "-t(X)%*%(y-plogis(X%*%b))\n",
    "}\n",
    "alpha = 4/(svd(cbind(1,X))$d[1]**2)\n",
    "\n",
    "# Use gradient descent algorithm to solve logistic regression problem\n",
    "logistic_ex <- gdescent(l,grad_l,X,y,alpha=alpha,iter=15000)"
   ]
  },
  {
   "cell_type": "code",
   "execution_count": null,
   "metadata": {
    "collapsed": true
   },
   "outputs": [],
   "source": []
  }
 ],
 "metadata": {
  "kernelspec": {
   "display_name": "R",
   "language": "R",
   "name": "ir"
  },
  "language_info": {
   "codemirror_mode": "r",
   "file_extension": ".r",
   "mimetype": "text/x-r-source",
   "name": "R",
   "pygments_lexer": "r",
   "version": "3.3.2"
  }
 },
 "nbformat": 4,
 "nbformat_minor": 2
}
