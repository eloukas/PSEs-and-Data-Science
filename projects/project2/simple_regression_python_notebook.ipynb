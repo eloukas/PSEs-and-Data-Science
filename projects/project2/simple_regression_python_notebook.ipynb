{
 "cells": [
  {
   "cell_type": "code",
   "execution_count": 127,
   "metadata": {},
   "outputs": [
    {
     "ename": "SyntaxError",
     "evalue": "invalid syntax (<ipython-input-127-e8f3f62dace4>, line 59)",
     "output_type": "error",
     "traceback": [
      "\u001b[0;36m  File \u001b[0;32m\"<ipython-input-127-e8f3f62dace4>\"\u001b[0;36m, line \u001b[0;32m59\u001b[0m\n\u001b[0;31m    model = sm.ols(formula= y ~ x, data=df)\u001b[0m\n\u001b[0m                              ^\u001b[0m\n\u001b[0;31mSyntaxError\u001b[0m\u001b[0;31m:\u001b[0m invalid syntax\n"
     ]
    }
   ],
   "source": [
    "import pandas as pd\n",
    "import numpy as np\n",
    "import numpy.matlib\n",
    "\n",
    "import matplotlib.pyplot as plt\n",
    "from sklearn.decomposition import PCA\n",
    "from sklearn.linear_model import LinearRegression\n",
    "#from statsmodels.formula.api import ols\n",
    "\n",
    "\n",
    "# Read the data\n",
    "df=pd.read_csv('all-data.csv')#\n",
    "# for whole dataframe\n",
    "df = df.replace(np.nan, 0)\n",
    "#df.dropna(axis=1, how='any')\n",
    "#df.fillna()\n",
    "#print(df)\n",
    "\n",
    "# Plot (x,y) points\n",
    "x = df['TDP']\n",
    "y = df['Processor Clock [MHz]']\n",
    "\n",
    "plt.scatter(x,y)\n",
    "plt.xlabel('TDP (Watts)')\n",
    "plt.ylabel('CPU Clock Frequency (Mhz)')\n",
    "plt.show()\n",
    "\n",
    "#print(x.shape)\n",
    "#print(y.shape)\n",
    "#x = np.transpose(x)\n",
    "#print(x.shape)\n",
    "#x=x.reshape(-1,1)\n",
    "#x=x[1]\n",
    "#x=x.dropna(axis=0,how='any')\n",
    "#y=y.dropna(axis=0,how='any')\n",
    "#y=y[1]\n",
    "#y=y.reshape(-1,1)\n",
    "#print(x) # First column: index\n",
    "#print(y) # First column: index\n",
    "\n",
    "# Calculate and plot the line\n",
    "#lr = LinearRegression()\n",
    "#lr.fit([[y]],[[x]])\n",
    "#predictions = lr.predict(test[[\"fg\"]])\n",
    "#(a,b) = np.polyfit(x,y,1)\n",
    "#np.plot(x,y,'o', x,a*x+b,'-')\n",
    "\n",
    "df.head()\n",
    "\n",
    "# Apply the cor function\n",
    "np.correlate(x,y)\n",
    "\n",
    "# R CODE fit.lm <- lm(clock ~ TDP, data=cpu_info)\n",
    "# assign it to 'result' variable\n",
    "\n",
    "#result.sum() # = summary(result) in R\n",
    "\n"
   ]
  },
  {
   "cell_type": "code",
   "execution_count": null,
   "metadata": {
    "collapsed": true
   },
   "outputs": [],
   "source": []
  },
  {
   "cell_type": "code",
   "execution_count": null,
   "metadata": {
    "collapsed": true
   },
   "outputs": [],
   "source": []
  },
  {
   "cell_type": "code",
   "execution_count": null,
   "metadata": {
    "collapsed": true
   },
   "outputs": [],
   "source": []
  }
 ],
 "metadata": {
  "kernelspec": {
   "display_name": "Python 3.6",
   "language": "python",
   "name": "python36"
  },
  "language_info": {
   "codemirror_mode": {
    "name": "ipython",
    "version": 3
   },
   "file_extension": ".py",
   "mimetype": "text/x-python",
   "name": "python",
   "nbconvert_exporter": "python",
   "pygments_lexer": "ipython3",
   "version": "3.6.0"
  }
 },
 "nbformat": 4,
 "nbformat_minor": 2
}
