{
 "cells": [
  {
   "cell_type": "markdown",
   "metadata": {},
   "source": [
    "# Multiple Regression in R \n",
    "## based on Students' performance in Portuguese & Maths"
   ]
  },
  {
   "cell_type": "markdown",
   "metadata": {},
   "source": [
    "**Team D** _#ce514_\n",
    "* **Eleftherios-Panagiotis Loukas**\n",
    "* **Klainti Bodurri**\n",
    "* **Konstantinos Kanellis**"
   ]
  },
  {
   "cell_type": "markdown",
   "metadata": {},
   "source": [
    "The dataset we use can be found in the UCI Machine Learning Repo here:\n",
    "https://archive.ics.uci.edu/ml/datasets/student+performance"
   ]
  },
  {
   "cell_type": "markdown",
   "metadata": {},
   "source": [
    "Based on various attributes of students in 2 Portuguese schools, we will predict their academic success."
   ]
  },
  {
   "cell_type": "markdown",
   "metadata": {},
   "source": [
    "# Data Set Information\n",
    "This data approach student achievement in secondary education of two Portuguese schools. The data attributes include student grades, demographic, social and school related features) and it was collected by using school reports and questionnaires. Two datasets are provided regarding the performance in two distinct subjects: Mathematics (mat) and Portuguese language (por). In [Cortez and Silva, 2008], the two datasets were modeled under binary/five-level classification and regression tasks. \n",
    "\n",
    "**Important note**: the target attribute G3 has a strong correlation with attributes G2 and G1. This occurs because G3 is the final year grade (issued at the 3rd period), while G1 and G2 correspond to the 1st and 2nd period grades. It is more difficult to predict G3 without G2 and G1, but such prediction is much more useful (see paper source for more details).\n",
    "\n"
   ]
  },
  {
   "cell_type": "markdown",
   "metadata": {},
   "source": [
    "# Load the data"
   ]
  },
  {
   "cell_type": "code",
   "execution_count": 1,
   "metadata": {},
   "outputs": [
    {
     "name": "stderr",
     "output_type": "stream",
     "text": [
      "\n",
      "Attaching package: ‘boot’\n",
      "\n",
      "The following object is masked from ‘package:car’:\n",
      "\n",
      "    logit\n",
      "\n"
     ]
    }
   ],
   "source": [
    "# Libraries & etc\n",
    "set.seed(1)\n",
    "library(car)\n",
    "library(boot)\n",
    "\n",
    "# Read tables from two comma-separated files\n",
    "data1 = read.table(\"student-por.csv\",sep=\";\",header=TRUE)\n",
    "dataSet1 = data.frame(data1)\n",
    "data2 = read.table(\"student-mat.csv\",sep=\";\",header=TRUE)\n",
    "dataSet2 = data.frame(data2)\n",
    "\n",
    "# Our final dataset will be the merge of the 2 datasets above\n",
    "dataSet = rbind(dataSet1, dataSet2) "
   ]
  },
  {
   "cell_type": "markdown",
   "metadata": {},
   "source": [
    "# Clean the final dataset\n",
    "As said in the intro information of the notebook, the grades are distributed in 3 attributes: G1, G2 & G3"
   ]
  },
  {
   "cell_type": "code",
   "execution_count": 2,
   "metadata": {},
   "outputs": [
    {
     "name": "stderr",
     "output_type": "stream",
     "text": [
      "The following object is masked _by_ .GlobalEnv:\n",
      "\n",
      "    Grade\n",
      "\n"
     ]
    }
   ],
   "source": [
    "# Change the names of the columns-attributes\n",
    "names(dataSet) <- c(\"school\",\"sex\",\"age\", \"address\",\"family size\",\"parents cohab.\", \"mom's education\", \n",
    "             \"dad's education\",\"mom's job\", \"dad's job\",\"reason\", \"guardian\",\"travel\", \"study\", \n",
    "             \"failures\",\"education support\",\"family support\",\"paid\",\"activities\", \"nursery\",\"higher\",    \n",
    "             \"internet\",\"romantic\",\"family bond\",\"free time\",\"social\",\"workday alch.\",\"weekend alch.\",\"health\",\n",
    "             \"absences\",\"Grade 1\",\"Grade 2\",\"Grade 3\")   \n",
    "\n",
    "# Merge the 3 variables into 1 variable\n",
    "Grade = (dataSet$`Grade 1` + dataSet$`Grade 2` + dataSet$`Grade 3`) / 3 \n",
    "\n",
    "# Make these 3 columns ZERO and substitute them of the Grade variable\n",
    "dataSet$`Grade 1` = NULL \n",
    "dataSet$`Grade 2` = NULL \n",
    "dataSet$`Grade 3` = NULL\n",
    "\n",
    "dataSet = cbind(dataSet, Grade) # Substitution\n",
    "\n",
    "attach(dataSet) # Attach the attributes to global env"
   ]
  },
  {
   "cell_type": "markdown",
   "metadata": {},
   "source": [
    "# Summary of the dataset"
   ]
  },
  {
   "cell_type": "code",
   "execution_count": 3,
   "metadata": {},
   "outputs": [
    {
     "data": {
      "text/plain": [
       " school   sex          age        address family size parents cohab.\n",
       " GP:772   F:591   Min.   :15.00   R:285   GT3:738     A:121         \n",
       " MS:272   M:453   1st Qu.:16.00   U:759   LE3:306     T:923         \n",
       "                  Median :17.00                                     \n",
       "                  Mean   :16.73                                     \n",
       "                  3rd Qu.:18.00                                     \n",
       "                  Max.   :22.00                                     \n",
       " mom's education dad's education    mom's job      dad's job          reason   \n",
       " Min.   :0.000   Min.   :0.000   at_home :194   at_home : 62   course    :430  \n",
       " 1st Qu.:2.000   1st Qu.:1.000   health  : 82   health  : 41   home      :258  \n",
       " Median :3.000   Median :2.000   other   :399   other   :584   other     :108  \n",
       " Mean   :2.603   Mean   :2.388   services:239   services:292   reputation:248  \n",
       " 3rd Qu.:4.000   3rd Qu.:3.000   teacher :130   teacher : 65                   \n",
       " Max.   :4.000   Max.   :4.000                                                 \n",
       "   guardian       travel          study         failures      education support\n",
       " father:243   Min.   :1.000   Min.   :1.00   Min.   :0.0000   no :925          \n",
       " mother:728   1st Qu.:1.000   1st Qu.:1.00   1st Qu.:0.0000   yes:119          \n",
       " other : 73   Median :1.000   Median :2.00   Median :0.0000                    \n",
       "              Mean   :1.523   Mean   :1.97   Mean   :0.2644                    \n",
       "              3rd Qu.:2.000   3rd Qu.:2.00   3rd Qu.:0.0000                    \n",
       "              Max.   :4.000   Max.   :4.00   Max.   :3.0000                    \n",
       " family support  paid     activities nursery   higher    internet  romantic \n",
       " no :404        no :824   no :528    no :209   no : 89   no :217   no :673  \n",
       " yes:640        yes:220   yes:516    yes:835   yes:955   yes:827   yes:371  \n",
       "                                                                            \n",
       "                                                                            \n",
       "                                                                            \n",
       "                                                                            \n",
       "  family bond      free time         social      workday alch.  \n",
       " Min.   :1.000   Min.   :1.000   Min.   :1.000   Min.   :1.000  \n",
       " 1st Qu.:4.000   1st Qu.:3.000   1st Qu.:2.000   1st Qu.:1.000  \n",
       " Median :4.000   Median :3.000   Median :3.000   Median :1.000  \n",
       " Mean   :3.936   Mean   :3.201   Mean   :3.156   Mean   :1.494  \n",
       " 3rd Qu.:5.000   3rd Qu.:4.000   3rd Qu.:4.000   3rd Qu.:2.000  \n",
       " Max.   :5.000   Max.   :5.000   Max.   :5.000   Max.   :5.000  \n",
       " weekend alch.       health         absences          Grade       \n",
       " Min.   :1.000   Min.   :1.000   Min.   : 0.000   Min.   : 1.333  \n",
       " 1st Qu.:1.000   1st Qu.:3.000   1st Qu.: 0.000   1st Qu.: 9.333  \n",
       " Median :2.000   Median :4.000   Median : 2.000   Median :11.333  \n",
       " Mean   :2.284   Mean   :3.543   Mean   : 4.435   Mean   :11.267  \n",
       " 3rd Qu.:3.000   3rd Qu.:5.000   3rd Qu.: 6.000   3rd Qu.:13.333  \n",
       " Max.   :5.000   Max.   :5.000   Max.   :75.000   Max.   :19.333  "
      ]
     },
     "metadata": {},
     "output_type": "display_data"
    }
   ],
   "source": [
    "summary(dataSet)"
   ]
  },
  {
   "cell_type": "code",
   "execution_count": 4,
   "metadata": {},
   "outputs": [
    {
     "data": {
      "image/png": "[encoded data removed]",
      "text/plain": [
       "Plot with title “Histogram of Grade”"
      ]
     },
     "metadata": {},
     "output_type": "display_data"
    }
   ],
   "source": [
    "hist(Grade)"
   ]
  },
  {
   "cell_type": "markdown",
   "metadata": {},
   "source": [
    "### Attributes of the model\n",
    "### These can be used as predictors or 'x' in order for us to perform a multivariable regression"
   ]
  },
  {
   "cell_type": "code",
   "execution_count": 5,
   "metadata": {},
   "outputs": [
    {
     "data": {
      "text/html": [
       "<ol class=list-inline>\n",
       "\t<li>'school'</li>\n",
       "\t<li>'sex'</li>\n",
       "\t<li>'age'</li>\n",
       "\t<li>'address'</li>\n",
       "\t<li>'family size'</li>\n",
       "\t<li>'parents cohab.'</li>\n",
       "\t<li>'mom\\'s education'</li>\n",
       "\t<li>'dad\\'s education'</li>\n",
       "\t<li>'mom\\'s job'</li>\n",
       "\t<li>'dad\\'s job'</li>\n",
       "\t<li>'reason'</li>\n",
       "\t<li>'guardian'</li>\n",
       "\t<li>'travel'</li>\n",
       "\t<li>'study'</li>\n",
       "\t<li>'failures'</li>\n",
       "\t<li>'education support'</li>\n",
       "\t<li>'family support'</li>\n",
       "\t<li>'paid'</li>\n",
       "\t<li>'activities'</li>\n",
       "\t<li>'nursery'</li>\n",
       "\t<li>'higher'</li>\n",
       "\t<li>'internet'</li>\n",
       "\t<li>'romantic'</li>\n",
       "\t<li>'family bond'</li>\n",
       "\t<li>'free time'</li>\n",
       "\t<li>'social'</li>\n",
       "\t<li>'workday alch.'</li>\n",
       "\t<li>'weekend alch.'</li>\n",
       "\t<li>'health'</li>\n",
       "\t<li>'absences'</li>\n",
       "\t<li>'Grade'</li>\n",
       "</ol>\n"
      ],
      "text/latex": [
       "\\begin{enumerate*}\n",
       "\\item 'school'\n",
       "\\item 'sex'\n",
       "\\item 'age'\n",
       "\\item 'address'\n",
       "\\item 'family size'\n",
       "\\item 'parents cohab.'\n",
       "\\item 'mom\\textbackslash{}'s education'\n",
       "\\item 'dad\\textbackslash{}'s education'\n",
       "\\item 'mom\\textbackslash{}'s job'\n",
       "\\item 'dad\\textbackslash{}'s job'\n",
       "\\item 'reason'\n",
       "\\item 'guardian'\n",
       "\\item 'travel'\n",
       "\\item 'study'\n",
       "\\item 'failures'\n",
       "\\item 'education support'\n",
       "\\item 'family support'\n",
       "\\item 'paid'\n",
       "\\item 'activities'\n",
       "\\item 'nursery'\n",
       "\\item 'higher'\n",
       "\\item 'internet'\n",
       "\\item 'romantic'\n",
       "\\item 'family bond'\n",
       "\\item 'free time'\n",
       "\\item 'social'\n",
       "\\item 'workday alch.'\n",
       "\\item 'weekend alch.'\n",
       "\\item 'health'\n",
       "\\item 'absences'\n",
       "\\item 'Grade'\n",
       "\\end{enumerate*}\n"
      ],
      "text/markdown": [
       "1. 'school'\n",
       "2. 'sex'\n",
       "3. 'age'\n",
       "4. 'address'\n",
       "5. 'family size'\n",
       "6. 'parents cohab.'\n",
       "7. 'mom\\'s education'\n",
       "8. 'dad\\'s education'\n",
       "9. 'mom\\'s job'\n",
       "10. 'dad\\'s job'\n",
       "11. 'reason'\n",
       "12. 'guardian'\n",
       "13. 'travel'\n",
       "14. 'study'\n",
       "15. 'failures'\n",
       "16. 'education support'\n",
       "17. 'family support'\n",
       "18. 'paid'\n",
       "19. 'activities'\n",
       "20. 'nursery'\n",
       "21. 'higher'\n",
       "22. 'internet'\n",
       "23. 'romantic'\n",
       "24. 'family bond'\n",
       "25. 'free time'\n",
       "26. 'social'\n",
       "27. 'workday alch.'\n",
       "28. 'weekend alch.'\n",
       "29. 'health'\n",
       "30. 'absences'\n",
       "31. 'Grade'\n",
       "\n",
       "\n"
      ],
      "text/plain": [
       " [1] \"school\"            \"sex\"               \"age\"              \n",
       " [4] \"address\"           \"family size\"       \"parents cohab.\"   \n",
       " [7] \"mom's education\"   \"dad's education\"   \"mom's job\"        \n",
       "[10] \"dad's job\"         \"reason\"            \"guardian\"         \n",
       "[13] \"travel\"            \"study\"             \"failures\"         \n",
       "[16] \"education support\" \"family support\"    \"paid\"             \n",
       "[19] \"activities\"        \"nursery\"           \"higher\"           \n",
       "[22] \"internet\"          \"romantic\"          \"family bond\"      \n",
       "[25] \"free time\"         \"social\"            \"workday alch.\"    \n",
       "[28] \"weekend alch.\"     \"health\"            \"absences\"         \n",
       "[31] \"Grade\"            "
      ]
     },
     "metadata": {},
     "output_type": "display_data"
    }
   ],
   "source": [
    "names(dataSet)"
   ]
  },
  {
   "cell_type": "markdown",
   "metadata": {},
   "source": [
    "# Scatterplot\n",
    "As predictors, we will consider the first 10 attributes.\n",
    "This is equal to all the attributes from `school` to `dad's job`"
   ]
  },
  {
   "cell_type": "code",
   "execution_count": 6,
   "metadata": {},
   "outputs": [
    {
     "data": {
      "image/png": "[encoded data removed]",
      "text/plain": [
       "plot without title"
      ]
     },
     "metadata": {},
     "output_type": "display_data"
    }
   ],
   "source": [
    "x1 <- dataSet[c(31, 1 : 10)] \n",
    "pairs(x1)"
   ]
  },
  {
   "cell_type": "markdown",
   "metadata": {},
   "source": [
    "# Fit a multiple regression model \n",
    "## based on study, failures, extra education support, extra paid classes & the desire to take higher education\n",
    "\n",
    "Everyone can use the predictors they want.\n",
    "We thought that these are some nice ones to predict a grade of a student."
   ]
  },
  {
   "cell_type": "code",
   "execution_count": 7,
   "metadata": {},
   "outputs": [
    {
     "data": {
      "text/plain": [
       "\n",
       "Call:\n",
       "lm(formula = Grade ~ study + failures + `education support` + \n",
       "    paid + higher, data = dataSet)\n",
       "\n",
       "Residuals:\n",
       "     Min       1Q   Median       3Q      Max \n",
       "-10.4849  -1.6574   0.0707   1.9185   7.9790 \n",
       "\n",
       "Coefficients:\n",
       "                       Estimate Std. Error t value Pr(>|t|)    \n",
       "(Intercept)              9.2697     0.3692  25.108  < 2e-16 ***\n",
       "study                    0.4942     0.1091   4.530 6.57e-06 ***\n",
       "failures                -1.6364     0.1415 -11.566  < 2e-16 ***\n",
       "`education support`yes  -1.2480     0.2796  -4.463 8.96e-06 ***\n",
       "paidyes                 -0.6331     0.2193  -2.887  0.00397 ** \n",
       "higheryes                1.8935     0.3368   5.622 2.42e-08 ***\n",
       "---\n",
       "Signif. codes:  0 ‘***’ 0.001 ‘**’ 0.01 ‘*’ 0.05 ‘.’ 0.1 ‘ ’ 1\n",
       "\n",
       "Residual standard error: 2.856 on 1038 degrees of freedom\n",
       "Multiple R-squared:  0.2163,\tAdjusted R-squared:  0.2125 \n",
       "F-statistic:  57.3 on 5 and 1038 DF,  p-value: < 2.2e-16\n"
      ]
     },
     "metadata": {},
     "output_type": "display_data"
    }
   ],
   "source": [
    "fit = lm(Grade ~ study + failures + `education support` + paid + higher, data = dataSet)\n",
    "summary(fit)"
   ]
  },
  {
   "cell_type": "markdown",
   "metadata": {},
   "source": [
    "# Explanation of statistics"
   ]
  },
  {
   "cell_type": "markdown",
   "metadata": {},
   "source": [
    "## p - Value\n",
    "The p-Values are very important because, We can consider a linear model to be statistically significant only when both these p-Values are less that the pre-determined statistical significance level, which is ideally 0.05.\n",
    "\n",
    "We can confirm this by looking the **last column** in the **coefficients** section at `Pr(>|t|)`.\n",
    "\n",
    "All of these predictors are good for our model.\n",
    "\n",
    "Also, this is visually interpreted by the significance stars at the end of the row. The more the stars\n",
    "beside the variable’s p-Value, the more significant the variable.\n",
    "\n",
    "Last but not least, when the p-Value is less than significance level (< 0.05), we can safely reject the null hypothesis that the co-efficient β of the predictor is zero. In our case, both these p Values are well below the 0.05 threshold, so we can conclude our model is indeed statistically significant."
   ]
  },
  {
   "cell_type": "markdown",
   "metadata": {},
   "source": [
    "## t- Statistic\n",
    "It's the column under the name of `t value` .\n",
    "\n",
    "Each attribute has each own t-Statistic value. This equals to $ t-Statistic = \\frac{\\beta - coefficient}{Std.Error} $\n",
    "\n",
    "For example, failures on our model have a `t-value` of `-11.566.`\n",
    "\n",
    "When you run a hypothesis test, you’ll use a distribution like a t-distribution or normal distribution. These have a known area, and enable to you to calculate a probability value (p-value) that will tell you if your results are due to chance, or if your results are die to your theory being correct. The larger the test statistic, the smaller the p-value and the more likely you are to reject the null hypothesis."
   ]
  },
  {
   "cell_type": "markdown",
   "metadata": {},
   "source": [
    "## $ R^2 $: Coefficient of Determination (R-Squared)\n",
    "The coefficient of determination of a linear regression model is the quotient of the variances of the fitted values and observed values of the dependent variable. If we denote $y_i$ as the observed values of the dependent variable, $ \\bar y $ as its mean, and $\\hat y_i$ as the fitted value, then the coefficient of determination is:\n",
    "\n",
    "![Mathematical formula of R-Squared](http://www.r-tutor.com/sites/default/files/images/simple-regression5x.png)\n",
    "\n",
    "In our model, **R-Squared Error* is equal to:"
   ]
  },
  {
   "cell_type": "code",
   "execution_count": 8,
   "metadata": {},
   "outputs": [
    {
     "data": {
      "text/html": [
       "0.216300425300022"
      ],
      "text/latex": [
       "0.216300425300022"
      ],
      "text/markdown": [
       "0.216300425300022"
      ],
      "text/plain": [
       "[1] 0.2163004"
      ]
     },
     "metadata": {},
     "output_type": "display_data"
    }
   ],
   "source": [
    "summary(fit)$r.squared "
   ]
  },
  {
   "cell_type": "markdown",
   "metadata": {},
   "source": [
    "which means that the proportion of variation in the dependent (response) variable is explained good in this model, since it the error is low.\n",
    "\n",
    "_Quick Note:_ We don’t necessarily discard a model based on a low R-Squared value. It's a better practice to look at the AIC (by using the `glm` method in R) and prediction accuracy on validation sample when deciding on the efficacy of a model."
   ]
  },
  {
   "cell_type": "markdown",
   "metadata": {},
   "source": [
    "### What about *Adjusted R-Squared* ?\n",
    "As you add more X variables to your model, the R-Squared value of the new bigger model will always be\n",
    "greater than that of the smaller subset. This is because, since all the variables in the\n",
    "original model is also present, their contribution to explain the dependent variable will\n",
    "be present in the super-set as well, therefore, whatever new variable we add can only\n",
    "add (if not significantly) to the variation that was already explained.\n",
    "\n",
    "It is here, the adjusted R-Squared value comes to help. Adj R-Squared penalizes total value for the\n",
    "number of terms (read predictors) in your model. **Therefore, when comparing nested\n",
    "models, it is a good practice to look at adj-R-squared value over R-squared.**\n",
    "\n",
    "In our model (see `summary` of `fit`), it's `0.2125` which verificates that our regression was good."
   ]
  },
  {
   "cell_type": "markdown",
   "metadata": {},
   "source": [
    "## Standard Error and F-Statistic\n",
    "Both standard errors and F-statistic are measures of goodness of fit.\n",
    "\n",
    "$$ Std. Error = \\sqrt{MSE} = \\sqrt{\\frac{SSE}{n-q}} $$\n",
    "and\n",
    "$$ F-statistic = \\frac{MSR}{MSE} $$\n",
    "where, $n$ is the number of observations, $q$ is the number of coefficients and $MSR$ is the\n",
    "mean square regression.\n",
    "\n",
    "\n",
    "Standard Error is low on our model, something that confirms the goodness of fit of our regression predictors.\n",
    "\n",
    "This applies to the F-statistic value too."
   ]
  },
  {
   "cell_type": "markdown",
   "metadata": {},
   "source": [
    "## Mean Squared Error"
   ]
  },
  {
   "cell_type": "markdown",
   "metadata": {},
   "source": [
    "The $MSE$ is a measure of the quality of an estimator—it is always non-negative, and values closer to zero are better.\n",
    "\n",
    "The mean squared error (MSE) is the mean of the square of the residuals:"
   ]
  },
  {
   "cell_type": "code",
   "execution_count": 9,
   "metadata": {},
   "outputs": [
    {
     "data": {
      "text/html": [
       "8.11190422061165"
      ],
      "text/latex": [
       "8.11190422061165"
      ],
      "text/markdown": [
       "8.11190422061165"
      ],
      "text/plain": [
       "[1] 8.111904"
      ]
     },
     "metadata": {},
     "output_type": "display_data"
    }
   ],
   "source": [
    "MSE = mean(fit$residuals^2)\n",
    "MSE"
   ]
  },
  {
   "cell_type": "markdown",
   "metadata": {},
   "source": [
    "As confirmed by other metrics, our regression model is good."
   ]
  },
  {
   "cell_type": "markdown",
   "metadata": {},
   "source": [
    "## Root Mean Squared Error(RMSE)\n",
    "As the title says, Root mean squared error (RMSE) is then the square root of MSE:"
   ]
  },
  {
   "cell_type": "code",
   "execution_count": 10,
   "metadata": {},
   "outputs": [
    {
     "data": {
      "text/html": [
       "2.8481404847043"
      ],
      "text/latex": [
       "2.8481404847043"
      ],
      "text/markdown": [
       "2.8481404847043"
      ],
      "text/plain": [
       "[1] 2.84814"
      ]
     },
     "metadata": {},
     "output_type": "display_data"
    }
   ],
   "source": [
    "RMSE <- sqrt(MSE)\n",
    "RMSE"
   ]
  },
  {
   "cell_type": "markdown",
   "metadata": {},
   "source": [
    "## Residual Sum Of Squares (RSS)\n",
    "Residual sum of squares (RSS) is the sum of the squared residuals:"
   ]
  },
  {
   "cell_type": "code",
   "execution_count": 11,
   "metadata": {},
   "outputs": [
    {
     "data": {
      "text/html": [
       "8468.82800631856"
      ],
      "text/latex": [
       "8468.82800631856"
      ],
      "text/markdown": [
       "8468.82800631856"
      ],
      "text/plain": [
       "[1] 8468.828"
      ]
     },
     "metadata": {},
     "output_type": "display_data"
    }
   ],
   "source": [
    "rss = sum(residuals(fit)^2)\n",
    "rss"
   ]
  },
  {
   "cell_type": "markdown",
   "metadata": {},
   "source": [
    "## Residual Standard Error (RSE)\n",
    "is the square root of (RSS / degrees of freedom):"
   ]
  },
  {
   "cell_type": "code",
   "execution_count": 12,
   "metadata": {},
   "outputs": [
    {
     "data": {
      "text/html": [
       "2.85636024345389"
      ],
      "text/latex": [
       "2.85636024345389"
      ],
      "text/markdown": [
       "2.85636024345389"
      ],
      "text/plain": [
       "[1] 2.85636"
      ]
     },
     "metadata": {},
     "output_type": "display_data"
    }
   ],
   "source": [
    "rse = sqrt( sum(residuals(fit)^2) / fit$df.residual ) \n",
    "rse"
   ]
  },
  {
   "cell_type": "code",
   "execution_count": null,
   "metadata": {
    "collapsed": true
   },
   "outputs": [],
   "source": []
  }
 ],
 "metadata": {
  "kernelspec": {
   "display_name": "R",
   "language": "R",
   "name": "ir"
  },
  "language_info": {
   "codemirror_mode": "r",
   "file_extension": ".r",
   "mimetype": "text/x-r-source",
   "name": "R",
   "pygments_lexer": "r",
   "version": "3.3.2"
  }
 },
 "nbformat": 4,
 "nbformat_minor": 2
}
